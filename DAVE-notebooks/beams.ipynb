{
 "cells": [
  {
   "cell_type": "markdown",
   "metadata": {},
   "source": [
    "# Beams - structural beams\n",
    "\n",
    "This notebook shows how to use Beam elements model cantilever beams, how to get the results and how those results compare to theory.\n",
    "\n",
    "A \"Beam\" in DAVE consists of a number of discrete segments and has a different formulation than the beams typically found in FEM packages."
   ]
  },
  {
   "cell_type": "code",
   "execution_count": null,
   "metadata": {},
   "outputs": [
    {
     "name": "stdout",
     "output_type": "stream",
     "text": [
      "Attempting to load:\n",
      " /home/ruben/miniconda3/lib/python3.8/site-packages/pyo3d.cpython-38-x86_64-linux-gnu.so\n",
      "failed because:\n",
      "dynamic module does not define module export function (PyInit_pyo3d)\n",
      "If problems persist then removing this file from your system may help\n",
      "The required version of pyo3d is not found on your system. No problem, we can download and install it automatically for you, proceed?\n"
     ]
    }
   ],
   "source": [
    "from DAVE import *\n",
    "s = Scene();"
   ]
  },
  {
   "cell_type": "markdown",
   "metadata": {},
   "source": [
    "Beams are elastic nodes that can be created between axis systems."
   ]
  },
  {
   "cell_type": "code",
   "execution_count": null,
   "metadata": {},
   "outputs": [],
   "source": [
    "left = s.new_axis(\"left\")\n",
    "right = s.new_axis(\"right\")\n",
    "beam = s.new_beam(\"beam\", nodeA=left, nodeB = right,\n",
    "                        EA = 1000,\n",
    "                        EIy = 1e5, EIz = 1e5, GIp = 1e3,\n",
    "                        L=10,\n",
    "                        mass = 0,\n",
    "                        n_segments=20)\n",
    "right.set_free()\n",
    "s.solve_statics()"
   ]
  },
  {
   "cell_type": "code",
   "execution_count": null,
   "metadata": {},
   "outputs": [],
   "source": [
    "from DAVE.jupyter import *;"
   ]
  },
  {
   "cell_type": "code",
   "execution_count": null,
   "metadata": {},
   "outputs": [],
   "source": [
    "show(s, camera_pos=(5,-10,6), lookat = (5,0,2), sea=False, width=1000, height = 200)"
   ]
  },
  {
   "cell_type": "markdown",
   "metadata": {},
   "source": [
    "A Beam node is rigidly fixed to the axis systems at its ends. It is fixed in the positive X-direction, so it departs from node A along the X-axis and arrives at ndoe B from the negative X-direction."
   ]
  },
  {
   "cell_type": "markdown",
   "metadata": {},
   "source": [
    "At the momement we have a massless beam with its left side fixed (axis system \"left\" is fixed) and its right size free (the right end of the beam is fixed to axis system \"right\", but \"right\" is not connected to anything and is free to move)."
   ]
  },
  {
   "cell_type": "markdown",
   "metadata": {},
   "source": [
    "This is one of those cases that frequently occur in textbooks and for which we can easily check the results."
   ]
  },
  {
   "cell_type": "markdown",
   "metadata": {},
   "source": [
    "![cantilever.png](cantilever.png)"
   ]
  },
  {
   "cell_type": "markdown",
   "metadata": {},
   "source": [
    "First place a point on the right side so that we can apply a force:"
   ]
  },
  {
   "cell_type": "code",
   "execution_count": null,
   "metadata": {},
   "outputs": [],
   "source": [
    "s.new_point(\"point\", parent = right)\n",
    "force = s.new_force(\"force\", parent = \"point\")"
   ]
  },
  {
   "cell_type": "markdown",
   "metadata": {},
   "source": [
    "### Cantilever beam with a force"
   ]
  },
  {
   "cell_type": "code",
   "execution_count": null,
   "metadata": {},
   "outputs": [],
   "source": [
    "force.force = (0,0,-100)"
   ]
  },
  {
   "cell_type": "code",
   "execution_count": null,
   "metadata": {},
   "outputs": [],
   "source": [
    "s.solve_statics()"
   ]
  },
  {
   "cell_type": "code",
   "execution_count": null,
   "metadata": {},
   "outputs": [],
   "source": [
    "show(s, camera_pos=(5,-10,0), lookat = (5,0,0), sea=False, width=1000, height = 300)"
   ]
  },
  {
   "cell_type": "markdown",
   "metadata": {},
   "source": [
    "Theory tells us that the deflection and rotation of the right end should be:\n",
    "\n",
    "$\\delta = -PL^3 / 3EI$\n",
    "\n",
    "and\n",
    "\n",
    "$\\Theta = PL^2 / 2EI$\n",
    "\n",
    "Get the values from the model:"
   ]
  },
  {
   "cell_type": "code",
   "execution_count": null,
   "metadata": {},
   "outputs": [],
   "source": [
    "L = beam.L\n",
    "EI = beam.EIy\n",
    "P = -force.force[2]"
   ]
  },
  {
   "cell_type": "markdown",
   "metadata": {},
   "source": [
    "And calculate their values"
   ]
  },
  {
   "cell_type": "markdown",
   "metadata": {},
   "source": [
    "The deflection is the vertical displacement of the axis system on the right side of the beam:"
   ]
  },
  {
   "cell_type": "code",
   "execution_count": null,
   "metadata": {},
   "outputs": [],
   "source": [
    "right.z"
   ]
  },
  {
   "cell_type": "code",
   "execution_count": null,
   "metadata": {},
   "outputs": [],
   "source": [
    "-P*L**3 / (3*EI)"
   ]
  },
  {
   "cell_type": "markdown",
   "metadata": {},
   "source": [
    "Theta is the slope. The slope can be calculated from the rotation of the axis system, but it is also available as \"tilt\", which is a percentage."
   ]
  },
  {
   "cell_type": "code",
   "execution_count": null,
   "metadata": {},
   "outputs": [],
   "source": [
    "right.tilt_y / 100"
   ]
  },
  {
   "cell_type": "code",
   "execution_count": null,
   "metadata": {},
   "outputs": [],
   "source": [
    "P*L**2 / (2*EI)"
   ]
  },
  {
   "cell_type": "markdown",
   "metadata": {},
   "source": [
    "It is also possible to obtain the forces in the beam.\n",
    "\n",
    "The moments are available at the nodes."
   ]
  },
  {
   "cell_type": "code",
   "execution_count": null,
   "metadata": {},
   "outputs": [],
   "source": [
    "import matplotlib.pyplot as plt"
   ]
  },
  {
   "cell_type": "code",
   "execution_count": null,
   "metadata": {},
   "outputs": [],
   "source": [
    "plt.plot(beam.X_nodes, beam.bending[:,1])\n",
    "plt.xlabel('Distance along the beam [m]')\n",
    "plt.ylabel('Moment about y-axis [kN*m]');"
   ]
  },
  {
   "cell_type": "markdown",
   "metadata": {},
   "source": [
    "## Cantilever with moment\n",
    "\n",
    "We can do the same with a moment"
   ]
  },
  {
   "cell_type": "code",
   "execution_count": null,
   "metadata": {},
   "outputs": [],
   "source": [
    "force.force = (0,0,0)\n",
    "force.moment = (0,1000,0)"
   ]
  },
  {
   "cell_type": "code",
   "execution_count": null,
   "metadata": {},
   "outputs": [],
   "source": [
    "s.solve_statics()"
   ]
  },
  {
   "cell_type": "code",
   "execution_count": null,
   "metadata": {},
   "outputs": [],
   "source": [
    "show(s, camera_pos=(5,-10,3), lookat = (5,0,-1), sea=False, width=1000, height = 300)"
   ]
  },
  {
   "cell_type": "markdown",
   "metadata": {},
   "source": [
    "Theory tells us that the deflection and rotation of the right end should be:\n",
    "\n",
    "$\\delta = ML^2 / 2EI$\n",
    "\n",
    "and\n",
    "\n",
    "$\\Theta = ML / EI$\n",
    "\n",
    "Get the values from the model:"
   ]
  },
  {
   "cell_type": "code",
   "execution_count": null,
   "metadata": {},
   "outputs": [],
   "source": [
    "M = force.moment[1]  # moment about Y-axis"
   ]
  },
  {
   "cell_type": "code",
   "execution_count": null,
   "metadata": {},
   "outputs": [],
   "source": [
    "M*L**2 / (2*EI)"
   ]
  },
  {
   "cell_type": "code",
   "execution_count": null,
   "metadata": {},
   "outputs": [],
   "source": [
    "-right.z"
   ]
  },
  {
   "cell_type": "code",
   "execution_count": null,
   "metadata": {},
   "outputs": [],
   "source": [
    "M*L / EI"
   ]
  },
  {
   "cell_type": "code",
   "execution_count": null,
   "metadata": {},
   "outputs": [],
   "source": [
    "right.tilt_y / 100"
   ]
  },
  {
   "cell_type": "markdown",
   "metadata": {},
   "source": [
    "## Tension and torsion\n",
    "\n",
    "Beam can also take tension and torsion."
   ]
  },
  {
   "cell_type": "code",
   "execution_count": null,
   "metadata": {},
   "outputs": [],
   "source": [
    "force.force = (100,0,0)\n",
    "force.moment = (100,0,0)"
   ]
  },
  {
   "cell_type": "code",
   "execution_count": null,
   "metadata": {},
   "outputs": [],
   "source": [
    "s.solve_statics()"
   ]
  },
  {
   "cell_type": "code",
   "execution_count": null,
   "metadata": {},
   "outputs": [],
   "source": [
    "show(s, camera_pos=(5,-10,3), lookat = (5,0,-1), sea=False, width=1000, height = 300)"
   ]
  },
  {
   "cell_type": "markdown",
   "metadata": {},
   "source": [
    "Tension and torsion forces in the beam are available not at the nodes but at the centers for the beam segments."
   ]
  },
  {
   "cell_type": "code",
   "execution_count": null,
   "metadata": {},
   "outputs": [],
   "source": [
    "plt.plot(beam.X_midpoints, beam.torsion);"
   ]
  },
  {
   "cell_type": "code",
   "execution_count": null,
   "metadata": {},
   "outputs": [],
   "source": [
    "plt.plot(beam.X_midpoints, beam.tension);"
   ]
  },
  {
   "cell_type": "markdown",
   "metadata": {},
   "source": [
    "**Now this looks horrible!** \n",
    "\n",
    "Fortunately this is just the way matplotlib displays data which is almost constant.\n",
    "\n",
    "Looking at the data directly it appears to be comfortingly constant:"
   ]
  },
  {
   "cell_type": "code",
   "execution_count": null,
   "metadata": {},
   "outputs": [],
   "source": [
    "beam.torsion"
   ]
  },
  {
   "cell_type": "code",
   "execution_count": null,
   "metadata": {},
   "outputs": [],
   "source": [
    "import matplotlib\n",
    "matplotlib.rcParams['axes.formatter.useoffset'] = False"
   ]
  },
  {
   "cell_type": "code",
   "execution_count": null,
   "metadata": {},
   "outputs": [],
   "source": [
    "plt.plot(beam.X_midpoints, beam.torsion);\n",
    "plt.ylim((99.9, 100.1));"
   ]
  },
  {
   "cell_type": "code",
   "execution_count": null,
   "metadata": {},
   "outputs": [],
   "source": [
    "plt.plot(beam.X_midpoints, beam.tension);\n",
    "plt.ylim((99.9, 100.1));"
   ]
  },
  {
   "cell_type": "markdown",
   "metadata": {},
   "source": [
    "## Distributed load\n",
    "\n",
    "Modelling a distributed load is not possible in this way. Loads can only be added at points.\n",
    "\n",
    "To model a distributed load we would have to manually discretise the model and add discrete loads at each node."
   ]
  },
  {
   "cell_type": "markdown",
   "metadata": {},
   "source": [
    "But these is a shortcut that we can take: The beams can have a mass. We can use the mass to model a distributed load as gravity."
   ]
  },
  {
   "cell_type": "code",
   "execution_count": null,
   "metadata": {},
   "outputs": [],
   "source": [
    "s.delete('force')"
   ]
  },
  {
   "cell_type": "code",
   "execution_count": null,
   "metadata": {},
   "outputs": [],
   "source": [
    "q = 10 # kN/m"
   ]
  },
  {
   "cell_type": "code",
   "execution_count": null,
   "metadata": {},
   "outputs": [],
   "source": [
    "beam.mass = beam.L * q  / 9.81"
   ]
  },
  {
   "cell_type": "code",
   "execution_count": null,
   "metadata": {},
   "outputs": [],
   "source": [
    "s.solve_statics()"
   ]
  },
  {
   "cell_type": "code",
   "execution_count": null,
   "metadata": {},
   "outputs": [],
   "source": [
    "show(s, camera_pos=(5,-10,0), lookat = (5,0,0), sea=False, width=1000, height = 300)"
   ]
  },
  {
   "cell_type": "markdown",
   "metadata": {},
   "source": [
    "Theory tells us that the deflection and rotation of the right end should be:\n",
    "\n",
    "$\\delta = qL^4 / 8EI$\n",
    "\n",
    "and\n",
    "\n",
    "$\\Theta = qL^3 / 6EI$"
   ]
  },
  {
   "cell_type": "code",
   "execution_count": null,
   "metadata": {},
   "outputs": [],
   "source": [
    "-q*L**4 / (8*EI)"
   ]
  },
  {
   "cell_type": "code",
   "execution_count": null,
   "metadata": {},
   "outputs": [],
   "source": [
    "right.z"
   ]
  },
  {
   "cell_type": "code",
   "execution_count": null,
   "metadata": {},
   "outputs": [],
   "source": [
    "q*L**3 / (6*EI)"
   ]
  },
  {
   "cell_type": "code",
   "execution_count": null,
   "metadata": {},
   "outputs": [],
   "source": [
    "right.tilt_y / 100"
   ]
  },
  {
   "cell_type": "markdown",
   "metadata": {},
   "source": [
    "## Large deflections"
   ]
  },
  {
   "cell_type": "markdown",
   "metadata": {},
   "source": [
    "All the tests done so far were performed on small deflections. That is for a good reason. The Euler/Bernouilli beam theory is only applicable to small displacements. This is because in this theory the moment is derived from the deflection:\n",
    "\n",
    "$d^2/dx^2(EI d^2w / dx^2) = q$"
   ]
  },
  {
   "cell_type": "markdown",
   "metadata": {},
   "source": [
    "so the moment in the beam is proprtional to the change in slope. This is only valid for small changes.\n",
    "\n",
    "The implementation in DAVE **is valid for large deflections**, it is just that the analytical formula used above are not."
   ]
  },
  {
   "cell_type": "markdown",
   "metadata": {},
   "source": [
    "## Number of segments\n",
    "\n",
    "Beams use a discrete model (see theory https://davedocs.online/beams.html).\n",
    "\n",
    "When a higher number of segments is used:\n",
    "- The model become more accurate\n",
    "- The solver becomes slower \n",
    "- (The numerical errors build up)\n",
    "\n",
    "So the number of nodes should be selected with some caution. In general 20 seems to be a good number for beams although in some cases (for example pure tension or torsion) a single segment is just as good.\n",
    "\n",
    "It is easy to use the \"plot_effect\" function in scene to check the effect of the number of segments.\n",
    "\n",
    "Here we calculate the effect of the number of segments on the vertical position of the second end of the beam:"
   ]
  },
  {
   "cell_type": "code",
   "execution_count": null,
   "metadata": {},
   "outputs": [],
   "source": [
    "s.plot_effect(evaluate=\"s['point'].gz\",\n",
    "   change_property=\"n_segments\",\n",
    "    change_node=\"beam\",\n",
    "    start=1,\n",
    "    to=25.0,\n",
    "    steps=25);"
   ]
  },
  {
   "cell_type": "markdown",
   "metadata": {},
   "source": [
    "-- end --"
   ]
  }
 ],
 "metadata": {
  "kernelspec": {
   "display_name": "Book",
   "language": "python",
   "name": "book"
  },
  "language_info": {
   "codemirror_mode": {
    "name": "ipython",
    "version": 3
   },
   "file_extension": ".py",
   "mimetype": "text/x-python",
   "name": "python",
   "nbconvert_exporter": "python",
   "pygments_lexer": "ipython3",
   "version": "3.7.10"
  }
 },
 "nbformat": 4,
 "nbformat_minor": 4
}
