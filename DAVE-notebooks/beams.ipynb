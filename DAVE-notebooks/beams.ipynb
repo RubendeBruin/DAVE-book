{
 "cells": [
  {
   "cell_type": "markdown",
   "metadata": {},
   "source": [
    "# Beams - structural beams\n",
    "\n",
    "This notebook shows how to use Beam elements model cantilever beams, how to get the results and how those results compare to theory.\n",
    "\n",
    "A \"Beam\" in DAVE consists of a number of discrete segments and has a different formulation than the beams typically found in FEM packages."
   ]
  },
  {
   "cell_type": "code",
   "execution_count": 18,
   "metadata": {
    "tags": []
   },
   "outputs": [],
   "source": [
    "from DAVE import *\n",
    "s = Scene();"
   ]
  },
  {
   "cell_type": "markdown",
   "metadata": {},
   "source": [
    "Beams are elastic nodes that can be created between axis systems."
   ]
  },
  {
   "cell_type": "code",
   "execution_count": 19,
   "metadata": {
    "tags": []
   },
   "outputs": [],
   "source": [
    "left = s.new_frame(\"left\")\n",
    "right = s.new_frame(\"right\", position = (5,0,0)) # position is not needed, it will be solved\n",
    "beam = s.new_beam(\"beam\", nodeA=left, nodeB = right,\n",
    "                        EA = 1000,\n",
    "                        EIy = 1e5, EIz = 1e5, GIp = 1e3,\n",
    "                        L=10,\n",
    "                        mass = 0,\n",
    "                        n_segments=20)\n",
    "right.set_free()\n",
    "s.solve_statics();"
   ]
  },
  {
   "cell_type": "code",
   "execution_count": 20,
   "metadata": {
    "tags": []
   },
   "outputs": [],
   "source": [
    "from DAVE.jupyter import *;"
   ]
  },
  {
   "cell_type": "code",
   "execution_count": 21,
   "metadata": {
    "tags": []
   },
   "outputs": [
    {
     "data": {
      "image/png": "[encoded data removed]",
      "text/plain": [
       "<PIL.Image.Image image mode=RGB size=1000x200>"
      ]
     },
     "execution_count": 21,
     "metadata": {},
     "output_type": "execute_result"
    }
   ],
   "source": [
    "show(s, camera_pos=(5,-10,4), lookat = (5,0,2), width=1000, height = 200)"
   ]
  },
  {
   "cell_type": "markdown",
   "metadata": {},
   "source": [
    "A Beam node is rigidly fixed to the axis systems at its ends. It is fixed in the positive X-direction, so it departs from node A along the X-axis and arrives at ndoe B from the negative X-direction."
   ]
  },
  {
   "cell_type": "markdown",
   "metadata": {},
   "source": [
    "At the momement we have a massless beam with its left side fixed (`Frame` \"left\" is fixed) and its right size free (the right end of the beam is fixed to `Frame` \"right\", but \"right\" is not connected to anything and is free to move)."
   ]
  },
  {
   "cell_type": "markdown",
   "metadata": {},
   "source": [
    "This is one of those cases that frequently occur in textbooks and for which we can easily check the results."
   ]
  },
  {
   "cell_type": "markdown",
   "metadata": {},
   "source": [
    "![cantilever.png](cantilever.png)"
   ]
  },
  {
   "cell_type": "markdown",
   "metadata": {},
   "source": [
    "First place a point on the right side so that we can apply a force:"
   ]
  },
  {
   "cell_type": "code",
   "execution_count": 22,
   "metadata": {
    "tags": []
   },
   "outputs": [],
   "source": [
    "s.new_point(\"point\", parent = right)\n",
    "force = s.new_force(\"force\", parent = \"point\")"
   ]
  },
  {
   "cell_type": "markdown",
   "metadata": {},
   "source": [
    "### Cantilever beam with a force"
   ]
  },
  {
   "cell_type": "code",
   "execution_count": 23,
   "metadata": {
    "tags": []
   },
   "outputs": [],
   "source": [
    "force.force = (0,0,-100)"
   ]
  },
  {
   "cell_type": "code",
   "execution_count": 24,
   "metadata": {
    "tags": []
   },
   "outputs": [
    {
     "data": {
      "text/plain": [
       "True"
      ]
     },
     "execution_count": 24,
     "metadata": {},
     "output_type": "execute_result"
    }
   ],
   "source": [
    "s.solve_statics()"
   ]
  },
  {
   "cell_type": "code",
   "execution_count": 25,
   "metadata": {
    "tags": []
   },
   "outputs": [
    {
     "data": {
      "image/png": "[encoded data removed]",
      "text/plain": [
       "<PIL.Image.Image image mode=RGB size=1000x300>"
      ]
     },
     "execution_count": 25,
     "metadata": {},
     "output_type": "execute_result"
    }
   ],
   "source": [
    "show(s, camera_pos=(5,-10,0), lookat = (5,0,0), width=1000, height = 300)"
   ]
  },
  {
   "cell_type": "markdown",
   "metadata": {},
   "source": [
    "Theory tells us that the deflection and rotation of the right end should be:\n",
    "\n",
    "$\\delta = -PL^3 / 3EI$\n",
    "\n",
    "and\n",
    "\n",
    "$\\Theta = PL^2 / 2EI$\n",
    "\n",
    "Get the values from the model:"
   ]
  },
  {
   "cell_type": "code",
   "execution_count": 26,
   "metadata": {
    "tags": []
   },
   "outputs": [],
   "source": [
    "L = beam.L\n",
    "EI = beam.EIy\n",
    "P = -force.force[2]"
   ]
  },
  {
   "cell_type": "markdown",
   "metadata": {},
   "source": [
    "And calculate their values"
   ]
  },
  {
   "cell_type": "markdown",
   "metadata": {},
   "source": [
    "The deflection is the vertical displacement of the axis system on the right side of the beam:"
   ]
  },
  {
   "cell_type": "code",
   "execution_count": 27,
   "metadata": {
    "tags": []
   },
   "outputs": [
    {
     "data": {
      "text/plain": [
       "-0.33604653085525665"
      ]
     },
     "execution_count": 27,
     "metadata": {},
     "output_type": "execute_result"
    }
   ],
   "source": [
    "right.z"
   ]
  },
  {
   "cell_type": "code",
   "execution_count": 28,
   "metadata": {
    "tags": []
   },
   "outputs": [
    {
     "data": {
      "text/plain": [
       "-0.3333333333333333"
      ]
     },
     "execution_count": 28,
     "metadata": {},
     "output_type": "execute_result"
    }
   ],
   "source": [
    "-P*L**3 / (3*EI)"
   ]
  },
  {
   "cell_type": "markdown",
   "metadata": {},
   "source": [
    "Theta is the slope. The slope can be calculated from the rotation of the axis system, but it is also available as \"tilt\", which is a percentage."
   ]
  },
  {
   "cell_type": "code",
   "execution_count": 29,
   "metadata": {
    "tags": []
   },
   "outputs": [
    {
     "data": {
      "text/plain": [
       "0.05014161613346104"
      ]
     },
     "execution_count": 29,
     "metadata": {},
     "output_type": "execute_result"
    }
   ],
   "source": [
    "right.tilt_y / 100"
   ]
  },
  {
   "cell_type": "code",
   "execution_count": 30,
   "metadata": {
    "tags": []
   },
   "outputs": [
    {
     "data": {
      "text/plain": [
       "0.05"
      ]
     },
     "execution_count": 30,
     "metadata": {},
     "output_type": "execute_result"
    }
   ],
   "source": [
    "P*L**2 / (2*EI)"
   ]
  },
  {
   "cell_type": "markdown",
   "metadata": {},
   "source": [
    "It is also possible to obtain the forces in the beam.\n",
    "\n",
    "The moments are available at the nodes."
   ]
  },
  {
   "cell_type": "code",
   "execution_count": 31,
   "metadata": {
    "tags": []
   },
   "outputs": [],
   "source": [
    "import matplotlib.pyplot as plt"
   ]
  },
  {
   "cell_type": "code",
   "execution_count": 32,
   "metadata": {
    "tags": []
   },
   "outputs": [
    {
     "data": {
      "image/png": "[encoded data removed]",
      "text/plain": [
       "<Figure size 640x480 with 1 Axes>"
      ]
     },
     "metadata": {},
     "output_type": "display_data"
    }
   ],
   "source": [
    "plt.plot(beam.X_nodes, beam.bending[:,1])\n",
    "plt.xlabel('Distance along the beam [m]')\n",
    "plt.ylabel('Moment about y-axis [kN*m]');"
   ]
  },
  {
   "cell_type": "markdown",
   "metadata": {},
   "source": [
    "## Cantilever with moment\n",
    "\n",
    "We can do the same with a moment"
   ]
  },
  {
   "cell_type": "code",
   "execution_count": 33,
   "metadata": {
    "tags": []
   },
   "outputs": [],
   "source": [
    "force.force = (0,0,0)\n",
    "force.moment = (0,1000,0)"
   ]
  },
  {
   "cell_type": "code",
   "execution_count": 34,
   "metadata": {
    "tags": []
   },
   "outputs": [
    {
     "data": {
      "text/plain": [
       "True"
      ]
     },
     "execution_count": 34,
     "metadata": {},
     "output_type": "execute_result"
    }
   ],
   "source": [
    "s.solve_statics()"
   ]
  },
  {
   "cell_type": "code",
   "execution_count": 35,
   "metadata": {
    "tags": []
   },
   "outputs": [
    {
     "name": "stderr",
     "output_type": "stream",
     "text": [
      "c:\\python\\miniconda3\\envs\\book\\Lib\\site-packages\\DAVE\\visual_helpers\\vtkHelpers.py:604: RuntimeWarning: invalid value encountered in divide\n",
      "  axis = axis / length\n"
     ]
    },
    {
     "data": {
      "image/png": "[encoded data removed]",
      "text/plain": [
       "<PIL.Image.Image image mode=RGB size=1000x300>"
      ]
     },
     "execution_count": 35,
     "metadata": {},
     "output_type": "execute_result"
    }
   ],
   "source": [
    "show(s, camera_pos=(5,-10,3), lookat = (5,0,-1), width=1000, height = 300)"
   ]
  },
  {
   "cell_type": "markdown",
   "metadata": {},
   "source": [
    "Theory tells us that the deflection and rotation of the right end should be:\n",
    "\n",
    "$\\delta = ML^2 / 2EI$\n",
    "\n",
    "and\n",
    "\n",
    "$\\Theta = ML / EI$\n",
    "\n",
    "Get the values from the model:"
   ]
  },
  {
   "cell_type": "code",
   "execution_count": 36,
   "metadata": {
    "tags": []
   },
   "outputs": [],
   "source": [
    "M = force.moment[1]  # moment about Y-axis"
   ]
  },
  {
   "cell_type": "code",
   "execution_count": 37,
   "metadata": {
    "tags": []
   },
   "outputs": [
    {
     "data": {
      "text/plain": [
       "0.5"
      ]
     },
     "execution_count": 37,
     "metadata": {},
     "output_type": "execute_result"
    }
   ],
   "source": [
    "M*L**2 / (2*EI)"
   ]
  },
  {
   "cell_type": "code",
   "execution_count": 38,
   "metadata": {
    "tags": []
   },
   "outputs": [
    {
     "data": {
      "text/plain": [
       "0.4995839926912043"
      ]
     },
     "execution_count": 38,
     "metadata": {},
     "output_type": "execute_result"
    }
   ],
   "source": [
    "-right.z"
   ]
  },
  {
   "cell_type": "code",
   "execution_count": 39,
   "metadata": {
    "tags": []
   },
   "outputs": [
    {
     "data": {
      "text/plain": [
       "0.1"
      ]
     },
     "execution_count": 39,
     "metadata": {},
     "output_type": "execute_result"
    }
   ],
   "source": [
    "M*L / EI"
   ]
  },
  {
   "cell_type": "code",
   "execution_count": 40,
   "metadata": {
    "tags": []
   },
   "outputs": [
    {
     "data": {
      "text/plain": [
       "0.09983341666017789"
      ]
     },
     "execution_count": 40,
     "metadata": {},
     "output_type": "execute_result"
    }
   ],
   "source": [
    "right.tilt_y / 100"
   ]
  },
  {
   "cell_type": "markdown",
   "metadata": {},
   "source": [
    "## Tension and torsion\n",
    "\n",
    "Beam can also take tension and torsion."
   ]
  },
  {
   "cell_type": "code",
   "execution_count": 41,
   "metadata": {
    "tags": []
   },
   "outputs": [],
   "source": [
    "force.force = (100,0,0)\n",
    "force.moment = (100,0,0)"
   ]
  },
  {
   "cell_type": "code",
   "execution_count": 42,
   "metadata": {
    "tags": []
   },
   "outputs": [
    {
     "data": {
      "text/plain": [
       "True"
      ]
     },
     "execution_count": 42,
     "metadata": {},
     "output_type": "execute_result"
    }
   ],
   "source": [
    "s.solve_statics()"
   ]
  },
  {
   "cell_type": "code",
   "execution_count": 43,
   "metadata": {
    "tags": []
   },
   "outputs": [
    {
     "data": {
      "image/png": "[encoded data removed]",
      "text/plain": [
       "<PIL.Image.Image image mode=RGB size=1000x300>"
      ]
     },
     "execution_count": 43,
     "metadata": {},
     "output_type": "execute_result"
    }
   ],
   "source": [
    "show(s, camera_pos=(5,-10,3), lookat = (5,0,-1), width=1000, height = 300)"
   ]
  },
  {
   "cell_type": "markdown",
   "metadata": {},
   "source": [
    "Tension and torsion forces in the beam are available not at the nodes but at the centers for the beam segments."
   ]
  },
  {
   "cell_type": "code",
   "execution_count": 44,
   "metadata": {
    "tags": []
   },
   "outputs": [
    {
     "data": {
      "image/png": "[encoded data removed]",
      "text/plain": [
       "<Figure size 640x480 with 1 Axes>"
      ]
     },
     "metadata": {},
     "output_type": "display_data"
    }
   ],
   "source": [
    "plt.plot(beam.X_midpoints, beam.torsion);"
   ]
  },
  {
   "cell_type": "code",
   "execution_count": 45,
   "metadata": {
    "tags": []
   },
   "outputs": [
    {
     "data": {
      "image/png": "[encoded data removed]",
      "text/plain": [
       "<Figure size 640x480 with 1 Axes>"
      ]
     },
     "metadata": {},
     "output_type": "display_data"
    }
   ],
   "source": [
    "plt.plot(beam.X_midpoints, beam.tension);"
   ]
  },
  {
   "cell_type": "markdown",
   "metadata": {},
   "source": [
    "**Now this looks horrible!** \n",
    "\n",
    "Fortunately this is just the way matplotlib displays data which is almost constant.\n",
    "\n",
    "Looking at the data directly it appears to be comfortingly constant:"
   ]
  },
  {
   "cell_type": "code",
   "execution_count": 46,
   "metadata": {
    "tags": []
   },
   "outputs": [
    {
     "data": {
      "text/plain": [
       "[100.00000428455166,\n",
       " 100.0000042844949,\n",
       " 100.00000428415083,\n",
       " 100.00000428256237,\n",
       " 100.00000427823248,\n",
       " 100.00000426935706,\n",
       " 100.00000425146958,\n",
       " 100.00000422352096,\n",
       " 100.0000041781012,\n",
       " 100.00000411295771,\n",
       " 100.00000401930589,\n",
       " 100.00000388960666,\n",
       " 100.00000370725613,\n",
       " 100.00000346510011,\n",
       " 100.00000315492589,\n",
       " 100.00000277518465,\n",
       " 100.00000230732795,\n",
       " 100.0000017412424,\n",
       " 100.00000108571953,\n",
       " 100.00000037367465]"
      ]
     },
     "execution_count": 46,
     "metadata": {},
     "output_type": "execute_result"
    }
   ],
   "source": [
    "beam.torsion"
   ]
  },
  {
   "cell_type": "code",
   "execution_count": 47,
   "metadata": {
    "tags": []
   },
   "outputs": [],
   "source": [
    "import matplotlib\n",
    "matplotlib.rcParams['axes.formatter.useoffset'] = False"
   ]
  },
  {
   "cell_type": "code",
   "execution_count": 48,
   "metadata": {
    "tags": []
   },
   "outputs": [
    {
     "data": {
      "image/png": "[encoded data removed]",
      "text/plain": [
       "<Figure size 640x480 with 1 Axes>"
      ]
     },
     "metadata": {},
     "output_type": "display_data"
    }
   ],
   "source": [
    "plt.plot(beam.X_midpoints, beam.torsion);\n",
    "plt.ylim((99.9, 100.1));"
   ]
  },
  {
   "cell_type": "code",
   "execution_count": 49,
   "metadata": {
    "tags": []
   },
   "outputs": [
    {
     "data": {
      "image/png": "[encoded data removed]",
      "text/plain": [
       "<Figure size 640x480 with 1 Axes>"
      ]
     },
     "metadata": {},
     "output_type": "display_data"
    }
   ],
   "source": [
    "plt.plot(beam.X_midpoints, beam.tension);\n",
    "plt.ylim((99.9, 100.1));"
   ]
  },
  {
   "cell_type": "markdown",
   "metadata": {},
   "source": [
    "## Distributed load\n",
    "\n",
    "Modelling a distributed load is not possible in this way. Loads can only be added at points.\n",
    "\n",
    "To model a distributed load we would have to manually discretise the model and add discrete loads at each node."
   ]
  },
  {
   "cell_type": "markdown",
   "metadata": {},
   "source": [
    "But these is a shortcut that we can take: The beams can have a mass. We can use the mass to model a distributed load as gravity."
   ]
  },
  {
   "cell_type": "code",
   "execution_count": 50,
   "metadata": {
    "tags": []
   },
   "outputs": [],
   "source": [
    "s.delete('force')"
   ]
  },
  {
   "cell_type": "code",
   "execution_count": 51,
   "metadata": {
    "tags": []
   },
   "outputs": [],
   "source": [
    "q = 10 # kN/m"
   ]
  },
  {
   "cell_type": "code",
   "execution_count": 52,
   "metadata": {
    "tags": []
   },
   "outputs": [],
   "source": [
    "beam.mass = beam.L * q  / 9.81"
   ]
  },
  {
   "cell_type": "code",
   "execution_count": 53,
   "metadata": {
    "tags": []
   },
   "outputs": [
    {
     "data": {
      "text/plain": [
       "True"
      ]
     },
     "execution_count": 53,
     "metadata": {},
     "output_type": "execute_result"
    }
   ],
   "source": [
    "s.solve_statics()"
   ]
  },
  {
   "cell_type": "code",
   "execution_count": 54,
   "metadata": {
    "tags": []
   },
   "outputs": [
    {
     "data": {
      "image/png": "[encoded data removed]",
      "text/plain": [
       "<PIL.Image.Image image mode=RGB size=1000x300>"
      ]
     },
     "execution_count": 54,
     "metadata": {},
     "output_type": "execute_result"
    }
   ],
   "source": [
    "show(s, camera_pos=(5,-10,0), lookat = (5,0,0), width=1000, height = 300)"
   ]
  },
  {
   "cell_type": "markdown",
   "metadata": {},
   "source": [
    "Theory tells us that the deflection and rotation of the right end should be:\n",
    "\n",
    "$\\delta = qL^4 / 8EI$\n",
    "\n",
    "and\n",
    "\n",
    "$\\Theta = qL^3 / 6EI$"
   ]
  },
  {
   "cell_type": "code",
   "execution_count": 55,
   "metadata": {
    "tags": []
   },
   "outputs": [
    {
     "data": {
      "text/plain": [
       "-0.125"
      ]
     },
     "execution_count": 55,
     "metadata": {},
     "output_type": "execute_result"
    }
   ],
   "source": [
    "-q*L**4 / (8*EI)"
   ]
  },
  {
   "cell_type": "code",
   "execution_count": 56,
   "metadata": {
    "tags": []
   },
   "outputs": [
    {
     "data": {
      "text/plain": [
       "-0.1253934069731925"
      ]
     },
     "execution_count": 56,
     "metadata": {},
     "output_type": "execute_result"
    }
   ],
   "source": [
    "right.z"
   ]
  },
  {
   "cell_type": "code",
   "execution_count": 57,
   "metadata": {
    "tags": []
   },
   "outputs": [
    {
     "data": {
      "text/plain": [
       "0.016666666666666666"
      ]
     },
     "execution_count": 57,
     "metadata": {},
     "output_type": "execute_result"
    }
   ],
   "source": [
    "q*L**3 / (6*EI)"
   ]
  },
  {
   "cell_type": "code",
   "execution_count": 58,
   "metadata": {
    "tags": []
   },
   "outputs": [
    {
     "data": {
      "text/plain": [
       "0.016689374861200167"
      ]
     },
     "execution_count": 58,
     "metadata": {},
     "output_type": "execute_result"
    }
   ],
   "source": [
    "right.tilt_y / 100"
   ]
  },
  {
   "cell_type": "markdown",
   "metadata": {},
   "source": [
    "## Large deflections"
   ]
  },
  {
   "cell_type": "markdown",
   "metadata": {},
   "source": [
    "All the tests done so far were performed on small deflections. That is for a good reason. The Euler/Bernouilli beam theory is only applicable to small displacements. This is because in this theory the moment is derived from the deflection:\n",
    "\n",
    "$d^2/dx^2(EI d^2w / dx^2) = q$"
   ]
  },
  {
   "cell_type": "markdown",
   "metadata": {},
   "source": [
    "so the moment in the beam is proprtional to the change in slope. This is only valid for small changes.\n",
    "\n",
    "The implementation in DAVE **is valid for large deflections**, it is just that the analytical formula used above are not."
   ]
  },
  {
   "cell_type": "markdown",
   "metadata": {},
   "source": [
    "## Number of segments\n",
    "\n",
    "Beams use a discrete model (see theory https://davedocs.online/beams.html).\n",
    "\n",
    "When a higher number of segments is used:\n",
    "- The model become more accurate\n",
    "- The solver becomes slower \n",
    "- (The numerical errors build up)\n",
    "\n",
    "So the number of nodes should be selected with some caution. In general 20 seems to be a good number for beams although in some cases (for example pure tension or torsion) a single segment is just as good.\n",
    "\n",
    "It is easy to use the \"plot_effect\" function in scene to check the effect of the number of segments.\n",
    "\n",
    "Here we calculate the effect of the number of segments on the vertical position of the second end of the beam:"
   ]
  },
  {
   "cell_type": "code",
   "execution_count": 59,
   "metadata": {
    "tags": []
   },
   "outputs": [
    {
     "name": "stdout",
     "output_type": "stream",
     "text": [
      "setting 1.0 results in -0.2504354072837573\n",
      "setting 2.0 results in -0.15639089332981548\n",
      "setting 3.0 results in -0.1389910434502611\n",
      "setting 4.0 results in -0.13290403867719833\n",
      "setting 5.0 results in -0.1300872329757714\n",
      "setting 6.0 results in -0.1285572568518122\n",
      "setting 7.0 results in -0.12763479900485464\n",
      "setting 8.0 results in -0.12703611080260366\n",
      "setting 9.0 results in -0.12662566273433065\n",
      "setting 10.0 results in -0.12633207552412554\n",
      "setting 11.0 results in -0.1261148602975285\n",
      "setting 12.0 results in -0.1259496505139831\n",
      "setting 13.0 results in -0.12582107945580853\n",
      "setting 14.0 results in -0.1257190628826018\n",
      "setting 15.0 results in -0.12563676152024328\n",
      "setting 16.0 results in -0.1255694041610991\n",
      "setting 17.0 results in -0.12551358025912016\n",
      "setting 18.0 results in -0.12546679927827994\n",
      "setting 19.0 results in -0.12542720748932626\n",
      "setting 20.0 results in -0.12539340734702664\n",
      "setting 21.0 results in -0.12536431820362948\n",
      "setting 22.0 results in -0.12533910507802803\n",
      "setting 23.0 results in -0.12531710883246805\n",
      "setting 24.0 results in -0.12529780432464147\n",
      "setting 25.0 results in -0.12528076971464952\n"
     ]
    },
    {
     "data": {
      "image/png": "[encoded data removed]",
      "text/plain": [
       "<Figure size 640x480 with 1 Axes>"
      ]
     },
     "metadata": {},
     "output_type": "display_data"
    }
   ],
   "source": [
    "s.plot_effect(evaluate=\"s['point'].gz\",\n",
    "   change_property=\"n_segments\",\n",
    "    change_node=\"beam\",\n",
    "    start=1,\n",
    "    to=25.0,\n",
    "    steps=25);"
   ]
  },
  {
   "cell_type": "markdown",
   "metadata": {},
   "source": [
    "-- end --"
   ]
  }
 ],
 "metadata": {
  "kernelspec": {
   "display_name": "Book",
   "language": "python",
   "name": "book"
  },
  "language_info": {
   "codemirror_mode": {
    "name": "ipython",
    "version": 3
   },
   "file_extension": ".py",
   "mimetype": "text/x-python",
   "name": "python",
   "nbconvert_exporter": "python",
   "pygments_lexer": "ipython3",
   "version": "3.11.3"
  }
 },
 "nbformat": 4,
 "nbformat_minor": 4
}
