{
 "cells": [
  {
   "cell_type": "markdown",
   "metadata": {},
   "source": [
    "# Dynamics"
   ]
  },
  {
   "cell_type": "code",
   "execution_count": 1,
   "metadata": {},
   "outputs": [
    {
     "name": "stdout",
     "output_type": "stream",
     "text": [
      "Equilibrium-core version = 2.0\n",
      "default resource folders:\n",
      "c:\\python\\miniconda3\\envs\\book\\lib\\site-packages\\DAVE\\resources\n",
      "C:\\Users\\beneden\\DAVE_models\n",
      "C:\\data\\Dave\\Book\\DAVE-book\\DAVE-notebooks\n",
      "Blender found at: C:\\Program Files\\Blender Foundation\\Blender 2.93\\blender.exe\n"
     ]
    }
   ],
   "source": [
    "from DAVE import *"
   ]
  },
  {
   "cell_type": "code",
   "execution_count": 2,
   "metadata": {},
   "outputs": [],
   "source": [
    "s = Scene()"
   ]
  },
  {
   "cell_type": "code",
   "execution_count": 3,
   "metadata": {},
   "outputs": [],
   "source": [
    "a = s.new_frame('axis', fixed=False)"
   ]
  },
  {
   "cell_type": "code",
   "execution_count": 4,
   "metadata": {},
   "outputs": [],
   "source": [
    "a.inertia = 100"
   ]
  },
  {
   "cell_type": "code",
   "execution_count": 5,
   "metadata": {},
   "outputs": [],
   "source": [
    "a.inertia_radii = (1,2,2)"
   ]
  },
  {
   "cell_type": "code",
   "execution_count": 6,
   "metadata": {},
   "outputs": [
    {
     "data": {
      "text/plain": "array([[100.,   0.,   0.,   0.,   0.,   0.],\n       [  0., 100.,   0.,   0.,   0.,   0.],\n       [  0.,   0., 100.,   0.,   0.,   0.],\n       [  0.,   0.,   0., 100.,   0.,   0.],\n       [  0.,   0.,   0.,   0., 400.,   0.],\n       [  0.,   0.,   0.,   0.,   0., 400.]])"
     },
     "execution_count": 6,
     "metadata": {},
     "output_type": "execute_result"
    }
   ],
   "source": [
    "s.dynamics_M(delta=0.000001)"
   ]
  },
  {
   "cell_type": "code",
   "execution_count": 7,
   "metadata": {},
   "outputs": [
    {
     "data": {
      "text/plain": "array([[-0., -0., -0., -0., -0., -0.],\n       [-0., -0., -0., -0., -0., -0.],\n       [-0., -0., -0., -0., -0., -0.],\n       [-0., -0., -0., -0., -0., -0.],\n       [-0., -0., -0., -0., -0., -0.],\n       [-0., -0., -0., -0., -0., -0.]])"
     },
     "execution_count": 7,
     "metadata": {},
     "output_type": "execute_result"
    }
   ],
   "source": [
    "s.dynamics_K(delta=0.3)"
   ]
  },
  {
   "cell_type": "code",
   "execution_count": 8,
   "metadata": {},
   "outputs": [
    {
     "data": {
      "text/plain": "[0, 1, 2, 3, 4, 5]"
     },
     "execution_count": 8,
     "metadata": {},
     "output_type": "execute_result"
    }
   ],
   "source": [
    "s.dynamics_modes()"
   ]
  },
  {
   "cell_type": "code",
   "execution_count": 9,
   "metadata": {},
   "outputs": [
    {
     "data": {
      "text/plain": "[axis <Frame>,\n axis <Frame>,\n axis <Frame>,\n axis <Frame>,\n axis <Frame>,\n axis <Frame>]"
     },
     "execution_count": 9,
     "metadata": {},
     "output_type": "execute_result"
    }
   ],
   "source": [
    "s.dynamics_nodes()"
   ]
  },
  {
   "cell_type": "code",
   "execution_count": 9,
   "metadata": {},
   "outputs": [],
   "source": []
  }
 ],
 "metadata": {
  "kernelspec": {
   "display_name": "Book",
   "language": "python",
   "name": "book"
  },
  "language_info": {
   "codemirror_mode": {
    "name": "ipython",
    "version": 3
   },
   "file_extension": ".py",
   "mimetype": "text/x-python",
   "name": "python",
   "nbconvert_exporter": "python",
   "pygments_lexer": "ipython3",
   "version": "3.7.10"
  }
 },
 "nbformat": 4,
 "nbformat_minor": 4
}