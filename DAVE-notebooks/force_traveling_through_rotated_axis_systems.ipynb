{
 "cells": [
  {
   "cell_type": "markdown",
   "metadata": {},
   "source": [
    "# Forces in stack of axis (Snake)\n",
    "\n",
    "This notebook goes together with Basics : Forces\n",
    "\n",
    "It also demonstrates that the force applied on a grand-grand-grand child of an axis correctly travels to the ultimate parent."
   ]
  },
  {
   "cell_type": "code",
   "execution_count": 1,
   "metadata": {},
   "outputs": [
    {
     "name": "stdout",
     "output_type": "stream",
     "text": [
      "Equilibrium-core version = 2.48 from c:\\python\\miniconda3\\envs\\book\\lib\\site-packages\\pyo3d.cp39-win_amd64.pyd\n",
      "default resource folders:\n",
      "c:\\python\\miniconda3\\envs\\book\\lib\\site-packages\\DAVE\\resources\n",
      "C:\\Users\\beneden\\DAVE_models\n",
      "C:\\data\\Dave\\Book\\DAVE-book\\DAVE-notebooks\n",
      "Blender found at: C:\\Program Files\\Blender Foundation\\Blender 3.3\\blender.exe\n"
     ]
    }
   ],
   "source": [
    "from DAVE import *\n",
    "from DAVE.jupyter import *"
   ]
  },
  {
   "cell_type": "code",
   "execution_count": 2,
   "metadata": {},
   "outputs": [],
   "source": [
    "s = Scene()"
   ]
  },
  {
   "cell_type": "code",
   "execution_count": 3,
   "metadata": {},
   "outputs": [],
   "source": [
    "a = s.new_frame('axis_0')"
   ]
  },
  {
   "cell_type": "markdown",
   "metadata": {},
   "source": [
    "Create a whole stack of axis systems using a for-loop. Each axis system is created on top of the previous one and has an offset and rotation relative to it."
   ]
  },
  {
   "cell_type": "code",
   "execution_count": 4,
   "metadata": {},
   "outputs": [],
   "source": [
    "for i in range(10):\n",
    "    a = s.new_frame(f'axis_{i+1}', parent = a)\n",
    "    a.rotation = (1,10,5)\n",
    "    a.position = (-1, 3, 1.3)"
   ]
  },
  {
   "cell_type": "code",
   "execution_count": 5,
   "metadata": {},
   "outputs": [
    {
     "name": "stdout",
     "output_type": "stream",
     "text": [
      "axis_0 [Frame]\n",
      " |-> axis_1 [Frame]\n",
      " |    |-> axis_2 [Frame]\n",
      " |    |    |-> axis_3 [Frame]\n",
      " |    |    |    |-> axis_4 [Frame]\n",
      " |    |    |    |    |-> axis_5 [Frame]\n",
      " |    |    |    |    |    |-> axis_6 [Frame]\n",
      " |    |    |    |    |    |    |-> axis_7 [Frame]\n",
      " |    |    |    |    |    |    |    |-> axis_8 [Frame]\n",
      " |    |    |    |    |    |    |    |    |-> axis_9 [Frame]\n",
      " |    |    |    |    |    |    |    |    |    |-> axis_10 [Frame]\n"
     ]
    }
   ],
   "source": [
    "s.print_node_tree()"
   ]
  },
  {
   "cell_type": "code",
   "execution_count": 6,
   "metadata": {},
   "outputs": [],
   "source": [
    "p = s.new_point('point',parent=a)"
   ]
  },
  {
   "cell_type": "code",
   "execution_count": 7,
   "metadata": {},
   "outputs": [],
   "source": [
    "f = s.new_force('force', parent = p)"
   ]
  },
  {
   "cell_type": "code",
   "execution_count": 8,
   "metadata": {},
   "outputs": [],
   "source": [
    "f.force = (3,4,5)"
   ]
  },
  {
   "cell_type": "code",
   "execution_count": 9,
   "metadata": {},
   "outputs": [
    {
     "name": "stdout",
     "output_type": "stream",
     "text": [
      "\u001b[1m\u001b[33;20m Warning! Please use \"settings.use_parallel_projection\" instead!\u001b[0m\n"
     ]
    },
    {
     "name": "stderr",
     "output_type": "stream",
     "text": [
      "c:\\python\\miniconda3\\envs\\book\\lib\\site-packages\\DAVE\\visual_helpers\\vtkHelpers.py:533: RuntimeWarning: invalid value encountered in divide\n",
      "  axis = axis / length\n",
      "c:\\python\\miniconda3\\envs\\book\\lib\\site-packages\\DAVE\\visual_helpers\\vtkHelpers.py:594: RuntimeWarning: invalid value encountered in divide\n",
      "  axis = axis / length\n"
     ]
    },
    {
     "data": {
      "image/png": "[encoded data removed]",
      "text/plain": [
       "<PIL.Image.Image image mode=RGB size=1024x600>"
      ]
     },
     "metadata": {},
     "output_type": "display_data"
    },
    {
     "name": "stderr",
     "output_type": "stream",
     "text": [
      "c:\\python\\miniconda3\\envs\\book\\lib\\site-packages\\DAVE\\jupyter\\jupyter.py:194: UserWarning: VTK/Vedo issue: plotter is None\n",
      "  warnings.warn(\"VTK/Vedo issue: plotter is None\")\n"
     ]
    }
   ],
   "source": [
    "show(s, camera_pos = (47.27125494760996, -2.2893149055027044, 11.008934429915707), lookat = (8.191845556784727, 11.628676713890059, 10.152255428376742))"
   ]
  },
  {
   "cell_type": "markdown",
   "metadata": {},
   "source": [
    "Update() calculates the forces in the model"
   ]
  },
  {
   "cell_type": "code",
   "execution_count": 10,
   "metadata": {},
   "outputs": [],
   "source": [
    "s.update()"
   ]
  },
  {
   "cell_type": "markdown",
   "metadata": {},
   "source": [
    "We can now verify that the applied force on axis 0 is what we expect it to be:"
   ]
  },
  {
   "cell_type": "markdown",
   "metadata": {},
   "source": [
    "The first three components should be identical to the force applied on the Point"
   ]
  },
  {
   "cell_type": "code",
   "execution_count": 11,
   "metadata": {},
   "outputs": [
    {
     "data": {
      "text/plain": [
       "(3.0, 4.0, 5.0)"
      ]
     },
     "execution_count": 11,
     "metadata": {},
     "output_type": "execute_result"
    }
   ],
   "source": [
    "f.force"
   ]
  },
  {
   "cell_type": "code",
   "execution_count": 12,
   "metadata": {},
   "outputs": [
    {
     "data": {
      "text/plain": [
       "(3.0000000000000018, 4.0000000000000036, 5.000000000000001)"
      ]
     },
     "execution_count": 12,
     "metadata": {},
     "output_type": "execute_result"
    }
   ],
   "source": [
    "s['axis_0'].applied_force[:3]"
   ]
  },
  {
   "cell_type": "markdown",
   "metadata": {},
   "source": [
    "The applied moment should be identical to the cross product of the global position of the Point and the applied force"
   ]
  },
  {
   "cell_type": "code",
   "execution_count": 13,
   "metadata": {},
   "outputs": [
    {
     "data": {
      "text/plain": [
       "array([ 43.06199224,  89.61104132, -97.52602839])"
      ]
     },
     "execution_count": 13,
     "metadata": {},
     "output_type": "execute_result"
    }
   ],
   "source": [
    "np.cross(p.global_position, f.force)"
   ]
  },
  {
   "cell_type": "code",
   "execution_count": 14,
   "metadata": {},
   "outputs": [
    {
     "data": {
      "text/plain": [
       "(43.06199223541863, 89.6110413166773, -97.52602839459306)"
      ]
     },
     "execution_count": 14,
     "metadata": {},
     "output_type": "execute_result"
    }
   ],
   "source": [
    "s['axis_0'].applied_force[3:]"
   ]
  }
 ],
 "metadata": {
  "kernelspec": {
   "display_name": "Book",
   "language": "python",
   "name": "book"
  },
  "language_info": {
   "codemirror_mode": {
    "name": "ipython",
    "version": 3
   },
   "file_extension": ".py",
   "mimetype": "text/x-python",
   "name": "python",
   "nbconvert_exporter": "python",
   "pygments_lexer": "ipython3",
   "version": "3.9.13"
  }
 },
 "nbformat": 4,
 "nbformat_minor": 4
}
