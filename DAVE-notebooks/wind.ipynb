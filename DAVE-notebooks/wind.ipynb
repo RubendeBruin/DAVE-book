{
 "cells": [
  {
   "cell_type": "markdown",
   "metadata": {
    "pycharm": {
     "name": "#%% md\n"
    }
   },
   "source": [
    "# Wind and current areas\n",
    "\n",
    "This example illustrates how to add a wind area and how the wind-force is calculated.\n",
    "\n",
    "Start with a simple hinged bar."
   ]
  },
  {
   "cell_type": "code",
   "execution_count": 1,
   "metadata": {
    "collapsed": true,
    "jupyter": {
     "outputs_hidden": true
    }
   },
   "outputs": [
    {
     "name": "stdout",
     "output_type": "stream",
     "text": [
      "DAVEcore version = 2.0 from C:\\python\\miniconda3\\envs\\book\\Lib\\site-packages\\DAVEcore.cp311-win_amd64.pyd\n",
      "Blender found at: C:\\Users\\beneden\\AppData\\Local\\Microsoft\\WindowsApps\\\\blender-launcher.exe\n"
     ]
    },
    {
     "data": {
      "image/png": "[encoded data removed]",
      "text/plain": [
       "<PIL.Image.Image image mode=RGB size=1024x600>"
      ]
     },
     "execution_count": 1,
     "metadata": {},
     "output_type": "execute_result"
    }
   ],
   "source": [
    "from DAVE import *\n",
    "from DAVE.jupyter import *\n",
    "\n",
    "s = Scene()\n",
    "s.new_frame('hinge',fixed = (True,True,True, True, False, True))\n",
    "s.new_rigidbody('Bar', parent='hinge', cog = (10,0,0), mass = 0.1)\n",
    "s.solve_statics()\n",
    "\n",
    "show(s)"
   ]
  },
  {
   "cell_type": "markdown",
   "metadata": {
    "pycharm": {
     "name": "#%% md\n"
    }
   },
   "source": [
    "Now add a point to the bar, and then add a wind-area to that point.\n",
    "\n",
    "The wind-area is defined using an area (A) [m2] and a drag coefficient (Cd) [-].\n",
    "\n",
    "In this case the area is defined as a plane. In that case the orientation of the\n",
    "plane needs to be defined by defining its normal.\n",
    "\n",
    "The normal is defined in the axis system of the frame that the area is attached to."
   ]
  },
  {
   "cell_type": "code",
   "execution_count": 2,
   "metadata": {
    "collapsed": false,
    "jupyter": {
     "outputs_hidden": false
    },
    "pycharm": {
     "name": "#%%\n"
    }
   },
   "outputs": [
    {
     "data": {
      "image/png": "[encoded data removed]",
      "text/plain": [
       "<PIL.Image.Image image mode=RGB size=1024x600>"
      ]
     },
     "execution_count": 2,
     "metadata": {},
     "output_type": "execute_result"
    }
   ],
   "source": [
    "# add a point at the same location as the cog\n",
    "s.new_point('point', parent='Bar', position = (10,0,0))\n",
    "\n",
    "# and add a wind-area to that point\n",
    "s.new_windarea('wind-area',\n",
    "               parent='point',\n",
    "               A = 10,\n",
    "               Cd = 1.2,\n",
    "               areakind=AreaKind.PLANE,\n",
    "               direction = (0,0,1)\n",
    "               )\n",
    "\n",
    "show(s)"
   ]
  },
  {
   "cell_type": "markdown",
   "metadata": {
    "pycharm": {
     "name": "#%% md\n"
    }
   },
   "source": [
    "For the wind area to have effect, we need to have some wind.\n",
    "\n",
    "Wind is defined at Scene level:"
   ]
  },
  {
   "cell_type": "code",
   "execution_count": 3,
   "metadata": {
    "collapsed": false,
    "jupyter": {
     "outputs_hidden": false
    },
    "pycharm": {
     "name": "#%%\n"
    }
   },
   "outputs": [
    {
     "data": {
      "text/plain": [
       "True"
      ]
     },
     "execution_count": 3,
     "metadata": {},
     "output_type": "execute_result"
    }
   ],
   "source": [
    "s.wind_velocity = 10 # m/s\n",
    "s.wind_direction = 0 # deg --> going in direction of global x-axis.\n",
    "\n",
    "s.solve_statics()\n",
    "\n"
   ]
  },
  {
   "cell_type": "code",
   "execution_count": 4,
   "metadata": {
    "collapsed": false,
    "jupyter": {
     "outputs_hidden": false
    },
    "pycharm": {
     "name": "#%%\n"
    }
   },
   "outputs": [
    {
     "data": {
      "image/png": "[encoded data removed]",
      "text/plain": [
       "<PIL.Image.Image image mode=RGB size=1024x600>"
      ]
     },
     "execution_count": 4,
     "metadata": {},
     "output_type": "execute_result"
    }
   ],
   "source": [
    "show(s, zoom_fit=True)"
   ]
  },
  {
   "cell_type": "code",
   "execution_count": 5,
   "metadata": {
    "collapsed": false,
    "jupyter": {
     "outputs_hidden": false
    },
    "pycharm": {
     "name": "#%%\n"
    }
   },
   "outputs": [
    {
     "data": {
      "text/html": [
       "<table align=\"left\" border=\"1\"><caption>Properties of wind-area (WindArea)</caption><tr><th style=\"text-align:left\">Property</th><th style=\"text-align:left\">Value</th><th style=\"text-align:left\">Unit</th><th style=\"text-align:left\">Remarks</th><th style=\"text-align:left\">Explained</th></tr><tr><td style=\"text-align:left\">A</td><td style=\"text-align:left\">10.000</td><td style=\"text-align:left\">[m2]</td><td style=\"text-align:left\"></td><td style=\"text-align:left\">Total area . See also Ae</td></tr><tr><td style=\"text-align:left\">Ae</td><td style=\"text-align:left\">8.395</td><td style=\"text-align:left\">[m2]</td><td style=\"text-align:left\"></td><td style=\"text-align:left\">Effective area . This is the projection of the total to the actual wind/current direction. Read only.</td></tr><tr><td style=\"text-align:left\">Cd</td><td style=\"text-align:left\">1.200</td><td style=\"text-align:left\">[-]</td><td style=\"text-align:left\"></td><td style=\"text-align:left\">Cd coefficient </td></tr><tr><td style=\"text-align:left\">areakind</td><td style=\"text-align:left\">AreaKind.PLANE</td><td style=\"text-align:left\"></td><td style=\"text-align:left\"></td><td style=\"text-align:left\">Defines how to interpret the area.</td></tr><tr><td style=\"text-align:left\">direction</td><td style=\"text-align:left\">(0.000,<br> 0.000,<br> 1.000 )</td><td style=\"text-align:left\"></td><td style=\"text-align:left\"></td><td style=\"text-align:left\">Depends on 'areakind'. For 'plane' this is the direction of the normal of the plane, for 'cylindrical' this is</td></tr><tr><td style=\"text-align:left\">force</td><td style=\"text-align:left\">(0.635,<br> 0.000,<br> 0.000 )</td><td style=\"text-align:left\">[kN,<br>kN,<br>kN]</td><td style=\"text-align:left\">global axis</td><td style=\"text-align:left\">The x,y and z components of the force  </td></tr><tr><td style=\"text-align:left\">fx</td><td style=\"text-align:left\">0.635</td><td style=\"text-align:left\">[kN]</td><td style=\"text-align:left\">global axis</td><td style=\"text-align:left\">The global x-component of the force  </td></tr><tr><td style=\"text-align:left\">fy</td><td style=\"text-align:left\">0.000</td><td style=\"text-align:left\">[kN]</td><td style=\"text-align:left\">global axis</td><td style=\"text-align:left\">The global y-component of the force   </td></tr><tr><td style=\"text-align:left\">fz</td><td style=\"text-align:left\">0.000</td><td style=\"text-align:left\">[kN]</td><td style=\"text-align:left\">global axis</td><td style=\"text-align:left\">The global z-component of the force   </td></tr><tr><td style=\"text-align:left\">name</td><td style=\"text-align:left\">wind-area</td><td style=\"text-align:left\"></td><td style=\"text-align:left\"></td><td style=\"text-align:left\">Name of the node (str), must be unique</td></tr><tr><td style=\"text-align:left\">visible</td><td style=\"text-align:left\">True</td><td style=\"text-align:left\">[bool]</td><td style=\"text-align:left\"></td><td style=\"text-align:left\">Determines if this node is visible in the viewport </td></tr></table><BR CLEAR=LEFT>"
      ],
      "text/plain": [
       "<IPython.core.display.HTML object>"
      ]
     },
     "metadata": {},
     "output_type": "display_data"
    }
   ],
   "source": [
    "report(s['wind-area'])"
   ]
  },
  {
   "cell_type": "markdown",
   "metadata": {
    "pycharm": {
     "name": "#%% md\n"
    }
   },
   "source": [
    "The wind is always horizontal. As the bar rotates the wind area rotates with it (remember: the direction of the plane is\n",
    "defined in the local axis system). This lowers the effective wind area.\n",
    "\n",
    "To get the angle of the bar (and the wind area) we can look at the trim of the bar or\n",
    "its local x-axis:\n"
   ]
  },
  {
   "cell_type": "code",
   "execution_count": 6,
   "metadata": {
    "collapsed": false,
    "jupyter": {
     "outputs_hidden": false
    },
    "pycharm": {
     "name": "#%%\n"
    }
   },
   "outputs": [
    {
     "data": {
      "text/html": [
       "<table align=\"left\" border=\"1\"><caption>Properties of Bar (RigidBody)</caption><tr><th style=\"text-align:left\">Property</th><th style=\"text-align:left\">Value</th><th style=\"text-align:left\">Unit</th><th style=\"text-align:left\">Remarks</th><th style=\"text-align:left\">Explained</th></tr><tr><td style=\"text-align:left\">trim</td><td style=\"text-align:left\">57.090</td><td style=\"text-align:left\">[deg]</td><td style=\"text-align:left\"></td><td style=\"text-align:left\">Trim in degrees. Bow-down is positive </td></tr><tr><td style=\"text-align:left\">ux</td><td style=\"text-align:left\">(0.543,<br> 0.000,<br> -0.840 )</td><td style=\"text-align:left\">[m,<br>m,<br>m]</td><td style=\"text-align:left\">Global axis</td><td style=\"text-align:left\">The unit x axis  </td></tr></table><BR CLEAR=LEFT>"
      ],
      "text/plain": [
       "<IPython.core.display.HTML object>"
      ]
     },
     "metadata": {},
     "output_type": "display_data"
    }
   ],
   "source": [
    "report(s['Bar'],['trim', 'ux'])"
   ]
  },
  {
   "cell_type": "markdown",
   "metadata": {},
   "source": [
    "We can now check the effective wind area either from the angle:"
   ]
  },
  {
   "cell_type": "code",
   "execution_count": 7,
   "metadata": {
    "collapsed": false,
    "jupyter": {
     "outputs_hidden": false
    },
    "pycharm": {
     "name": "#%%\n"
    }
   },
   "outputs": [
    {
     "data": {
      "text/plain": [
       "0.8395534969904384"
      ]
     },
     "execution_count": 7,
     "metadata": {},
     "output_type": "execute_result"
    }
   ],
   "source": [
    "from math import *\n",
    "sin(radians(57.093))"
   ]
  },
  {
   "cell_type": "markdown",
   "metadata": {
    "pycharm": {
     "name": "#%% md\n"
    }
   },
   "source": [
    "or from the z-component of the local x-axis:\n"
   ]
  },
  {
   "cell_type": "code",
   "execution_count": 8,
   "metadata": {
    "collapsed": false,
    "jupyter": {
     "outputs_hidden": false
    },
    "pycharm": {
     "name": "#%%\n"
    }
   },
   "outputs": [
    {
     "data": {
      "text/plain": [
       "-0.8395224118438845"
      ]
     },
     "execution_count": 8,
     "metadata": {},
     "output_type": "execute_result"
    }
   ],
   "source": [
    "s['Bar'].ux[2]"
   ]
  },
  {
   "cell_type": "markdown",
   "metadata": {
    "pycharm": {
     "name": "#%% md\n"
    }
   },
   "source": [
    "Both tell us that only about 84% of the area is faced in the direction of the wind. This\n",
    "means the effective wind area (Ae) is 84% of the total area (A). Lets check that:"
   ]
  },
  {
   "cell_type": "code",
   "execution_count": 9,
   "metadata": {
    "collapsed": false,
    "jupyter": {
     "outputs_hidden": false
    },
    "pycharm": {
     "name": "#%%\n"
    }
   },
   "outputs": [
    {
     "data": {
      "text/plain": [
       "0.8395224118438845"
      ]
     },
     "execution_count": 9,
     "metadata": {},
     "output_type": "execute_result"
    }
   ],
   "source": [
    "s['wind-area'].Ae / s['wind-area'].A"
   ]
  },
  {
   "cell_type": "markdown",
   "metadata": {
    "pycharm": {
     "name": "#%% md\n"
    }
   },
   "source": [
    "The wind-force is always in the direction of the wind. It is calculated from the standard\n",
    "formulation:\n",
    "\n",
    "$F = 0.5 * rho * A * Cd * V^2$"
   ]
  },
  {
   "cell_type": "code",
   "execution_count": 10,
   "metadata": {
    "collapsed": false,
    "jupyter": {
     "outputs_hidden": false
    },
    "pycharm": {
     "name": "#%%\n"
    }
   },
   "outputs": [
    {
     "name": "stdout",
     "output_type": "stream",
     "text": [
      "0.6346789433539768\n"
     ]
    }
   ],
   "source": [
    "w = s['wind-area']\n",
    "F = 0.5 * s.rho_air * w.Ae * w.Cd * s.wind_velocity**2\n",
    "\n",
    "print(F)"
   ]
  },
  {
   "cell_type": "markdown",
   "metadata": {
    "pycharm": {
     "name": "#%% md\n"
    }
   },
   "source": [
    "And verify that it is equal to the reported wind-force of the wind-area:"
   ]
  },
  {
   "cell_type": "code",
   "execution_count": 11,
   "metadata": {
    "collapsed": false,
    "jupyter": {
     "outputs_hidden": false
    },
    "pycharm": {
     "name": "#%%\n"
    }
   },
   "outputs": [
    {
     "data": {
      "text/html": [
       "<table align=\"left\" border=\"1\"><caption>Properties of wind-area (WindArea)</caption><tr><th style=\"text-align:left\">Property</th><th style=\"text-align:left\">Value</th><th style=\"text-align:left\">Unit</th><th style=\"text-align:left\">Remarks</th><th style=\"text-align:left\">Explained</th></tr><tr><td style=\"text-align:left\">fx</td><td style=\"text-align:left\">0.635</td><td style=\"text-align:left\">[kN]</td><td style=\"text-align:left\">global axis</td><td style=\"text-align:left\">The global x-component of the force  </td></tr></table><BR CLEAR=LEFT>"
      ],
      "text/plain": [
       "<IPython.core.display.HTML object>"
      ]
     },
     "metadata": {},
     "output_type": "display_data"
    }
   ],
   "source": [
    "report(w, ['*x*'])  # anything with 'x'"
   ]
  },
  {
   "cell_type": "markdown",
   "metadata": {},
   "source": [
    "And while we're at it, verify that this force is countered by the hinge:"
   ]
  },
  {
   "cell_type": "code",
   "execution_count": 12,
   "metadata": {
    "collapsed": false,
    "jupyter": {
     "outputs_hidden": false
    },
    "pycharm": {
     "name": "#%%\n"
    }
   },
   "outputs": [
    {
     "data": {
      "text/html": [
       "<table align=\"left\" border=\"1\"><caption>Properties of hinge (Frame)</caption><tr><th style=\"text-align:left\">Property</th><th style=\"text-align:left\">Value</th><th style=\"text-align:left\">Unit</th><th style=\"text-align:left\">Remarks</th><th style=\"text-align:left\">Explained</th></tr><tr><td style=\"text-align:left\">connection_force</td><td style=\"text-align:left\">(0.635,<br> 0.000,<br> -0.981,<br> 0.000,<br> 0.000,<br> 0.000 )</td><td style=\"text-align:left\">[kN,<br> kN,<br> kN,<br> kNm,<br> kNm,<br> kNm]</td><td style=\"text-align:left\">Parent axis</td><td style=\"text-align:left\">The forces and moments that this axis applies on its parent at the origin of this axis system.  </td></tr><tr><td style=\"text-align:left\">connection_force_x</td><td style=\"text-align:left\">0.635</td><td style=\"text-align:left\">[kN]</td><td style=\"text-align:left\">Parent axis</td><td style=\"text-align:left\">The x-component of the connection-force vector  </td></tr><tr><td style=\"text-align:left\">connection_force_y</td><td style=\"text-align:left\">0.000</td><td style=\"text-align:left\">[kN]</td><td style=\"text-align:left\">Parent axis</td><td style=\"text-align:left\">The y-component of the connection-force vector  </td></tr><tr><td style=\"text-align:left\">connection_force_z</td><td style=\"text-align:left\">-0.981</td><td style=\"text-align:left\">[kN]</td><td style=\"text-align:left\">Parent axis</td><td style=\"text-align:left\">The z-component of the connection-force vector  </td></tr></table><BR CLEAR=LEFT>"
      ],
      "text/plain": [
       "<IPython.core.display.HTML object>"
      ]
     },
     "metadata": {},
     "output_type": "display_data"
    }
   ],
   "source": [
    "report(s['hinge'], ['*connection_force*'])"
   ]
  },
  {
   "cell_type": "markdown",
   "metadata": {
    "pycharm": {
     "name": "#%% md\n"
    }
   },
   "source": [
    "## Currents\n",
    "\n",
    "Currents work exactly the same but then with:\n",
    "\n",
    "- s.new_currentarea(...)\n",
    "- s.rho_water\n",
    "- s.current_direction\n",
    "- s.current_velocity"
   ]
  }
 ],
 "metadata": {
  "kernelspec": {
   "display_name": "Python 3 (ipykernel)",
   "language": "python",
   "name": "python3"
  },
  "language_info": {
   "codemirror_mode": {
    "name": "ipython",
    "version": 3
   },
   "file_extension": ".py",
   "mimetype": "text/x-python",
   "name": "python",
   "nbconvert_exporter": "python",
   "pygments_lexer": "ipython3",
   "version": "3.11.3"
  }
 },
 "nbformat": 4,
 "nbformat_minor": 4
}
