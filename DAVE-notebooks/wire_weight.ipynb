{
 "cells": [
  {
   "cell_type": "markdown",
   "metadata": {
    "pycharm": {
     "name": "#%% md\n"
    }
   },
   "source": [
    "# Cable Weight\n",
    "\n",
    "This notebook illustrates how the weight of cables is incorporated in the `Cable` node.\n",
    "\n",
    "Modeling wires or chains with significant weight is typically done using the (elastic) catanary equation. This equation can not be solved anayltically meaning that numerical methods are needed to get a solution. In DAVE this can be done numerically using the `Beam` nodes.\n",
    "\n",
    "For wires under tension the elastic catenary equations can be estimated. This estimation is accurate when the load in the cable exceeds the weight of the cable itself. This is very much the case for rigging applications where the load in a sling/grommet is typically more than 10 times the weight of the sling/grommet itself.\n",
    "\n",
    "This weight estimation is included as on option in `Cable` nodes. In comparison with beams, cables nodes are much more versatile as they can run over sheaves/circles. They are therefore preferred when modelling rigging.\n",
    "\n",
    "## The weight model\n",
    "\n",
    "Calculation of forces in cables without weight is done based on the stretch and elasticity of the cable. If cable weight is included then the weight contributions of the cable are added to those forces as follows:\n",
    "\n",
    "1. Calculate the forces in the cable as if the cable is weightless\n",
    "2. Cut the cable into segments at the positions where it enters/leaves a circle or where it runs over a point\n",
    "3. For free segments (segments not on a circle), calculate the contribution of the weight and add this as forces to the endpoint of the segment.\n",
    "4. For other segments (the parts of a wire on a circle), calculate the weight and add it to the circle at the location between the enter/leave points of the cable.\n",
    "\n",
    "What does that look like?\n",
    "\n",
    "First define a small helper function to show the weight contributions. This is done by adding them as forces to the scene. This is for illustration only, it does not physically do anything:"
   ]
  },
  {
   "cell_type": "code",
   "execution_count": 1,
   "metadata": {
    "collapsed": true,
    "jupyter": {
     "outputs_hidden": true
    }
   },
   "outputs": [
    {
     "name": "stdout",
     "output_type": "stream",
     "text": [
      "DAVEcore version = 2.0 from C:\\python\\miniconda3\\envs\\book\\Lib\\site-packages\\DAVEcore.cp311-win_amd64.pyd\n",
      "Blender found at: C:\\Users\\beneden\\AppData\\Local\\Microsoft\\WindowsApps\\\\blender-launcher.exe\n"
     ]
    }
   ],
   "source": [
    "from DAVE import *\n",
    "from DAVE.jupyter import show, report\n",
    "\n",
    "def _add_weight_forces_as_forces(s, cab):\n",
    "\n",
    "    points = cab._vfNode.weight_forces_locations\n",
    "    forces = cab._vfNode.weight_forces\n",
    "\n",
    "    for point, force in zip(points, forces):\n",
    "        p = s.new_point(s.available_name_like('point'), position=point)\n",
    "        p.y = p.y - 1 # move visual towards camera such that is it not hidden in circle\n",
    "        s.new_force(s.available_name_like('force'), parent=p, force= force)"
   ]
  },
  {
   "cell_type": "markdown",
   "metadata": {
    "pycharm": {
     "name": "#%% md\n"
    }
   },
   "source": [
    "Now create a scene, and add two endpoints and a body with a circle."
   ]
  },
  {
   "cell_type": "code",
   "execution_count": 2,
   "metadata": {
    "collapsed": false,
    "jupyter": {
     "outputs_hidden": false
    },
    "pycharm": {
     "name": "#%%\n"
    }
   },
   "outputs": [],
   "source": [
    "s = Scene()\n",
    "\n",
    "s.new_point(name='Point')\n",
    "s.new_point(name='Right',\n",
    "            position=(10.0,0,-7.0))\n",
    "\n",
    "s.new_rigidbody(name='Body',\n",
    "                mass=3.0,\n",
    "                fixed=False,\n",
    "                position = (2,0,-20))\n",
    "s.new_point(name='Point_on_body',\n",
    "            parent='Body',\n",
    "            position=(0.0,0.0,2.0))\n",
    "s.new_circle(name='Circle',\n",
    "             parent='Point_on_body',\n",
    "             axis=(0.0, 1.0, 0.0),\n",
    "             radius=1.0);"
   ]
  },
  {
   "cell_type": "markdown",
   "metadata": {
    "pycharm": {
     "name": "#%% md\n"
    }
   },
   "source": [
    "Add a cable with a mass and a relatively low EA"
   ]
  },
  {
   "cell_type": "code",
   "execution_count": 3,
   "metadata": {
    "collapsed": false,
    "jupyter": {
     "outputs_hidden": false
    },
    "pycharm": {
     "name": "#%%\n"
    }
   },
   "outputs": [],
   "source": [
    "\n",
    "# code for cable\n",
    "cab = s.new_cable(name='cable',\n",
    "                  endA='Right',\n",
    "                  endB='Point',\n",
    "                  length=15,\n",
    "                  EA=1000.0,\n",
    "                  sheaves=['Circle'],\n",
    "                  mass = 3,\n",
    "                  )"
   ]
  },
  {
   "cell_type": "markdown",
   "metadata": {
    "pycharm": {
     "name": "#%% md\n"
    }
   },
   "source": [
    "Solve statics"
   ]
  },
  {
   "cell_type": "code",
   "execution_count": 4,
   "metadata": {
    "collapsed": false,
    "jupyter": {
     "outputs_hidden": false
    },
    "pycharm": {
     "name": "#%%\n"
    }
   },
   "outputs": [],
   "source": [
    "s.solve_statics();"
   ]
  },
  {
   "cell_type": "markdown",
   "metadata": {
    "pycharm": {
     "name": "#%% md\n"
    }
   },
   "source": [
    "and add some visuals at the endpoints, use the helper to visualize the forces and create a screenshot"
   ]
  },
  {
   "cell_type": "code",
   "execution_count": 5,
   "metadata": {
    "collapsed": false,
    "jupyter": {
     "outputs_hidden": false
    },
    "pycharm": {
     "name": "#%%\n"
    }
   },
   "outputs": [
    {
     "name": "stderr",
     "output_type": "stream",
     "text": [
      "C:\\python\\miniconda3\\envs\\book\\Lib\\site-packages\\DAVE\\visual_helpers\\vtkHelpers.py:604: RuntimeWarning: invalid value encountered in divide\n",
      "  axis = axis / length\n",
      "C:\\python\\miniconda3\\envs\\book\\Lib\\site-packages\\DAVE\\visual_helpers\\vtkHelpers.py:665: RuntimeWarning: invalid value encountered in divide\n",
      "  axis = axis / length\n"
     ]
    },
    {
     "data": {
      "image/png": "[encoded data removed]",
      "text/plain": [
       "<PIL.Image.Image image mode=RGB size=1024x600>"
      ]
     },
     "execution_count": 5,
     "metadata": {},
     "output_type": "execute_result"
    }
   ],
   "source": [
    "s.new_frame(name='Frame')\n",
    "s.new_visual(name='Visual',\n",
    "             parent='Frame',\n",
    "             path=r'res: cube.obj',\n",
    "             offset=(0.0, 0.0, 0.5),\n",
    "             rotation=(0, 0, 0),\n",
    "             scale=(2.0, 1.0, 1.0))\n",
    "s.new_visual(name='Visual_1',\n",
    "             parent='Frame',\n",
    "             path=r'res: cube.obj',\n",
    "             offset=(10.0, 0.0, -6.5),\n",
    "             rotation=(0, 0, 0),\n",
    "             scale=(2.0, 1.0, 1.0))\n",
    "\n",
    "_add_weight_forces_as_forces(s, cab)\n",
    "\n",
    "show(s, camera_pos=(5, -29, -5.75),\n",
    "               projection='2d',\n",
    "               scale=7.2,\n",
    "               lookat='y',\n",
    "               force_do_normalize=False,\n",
    "               force_scale=360.0,\n",
    "               geometry_scale=0.01,\n",
    "               painters='Construction',\n",
    "               zoom_fit=False)"
   ]
  },
  {
   "cell_type": "markdown",
   "metadata": {
    "pycharm": {
     "name": "#%% md\n"
    }
   },
   "source": [
    "The result shows the weight forces added to the three segments.\n",
    "\n",
    "The forces on the ends of the left segment are higher as the left segment is longer (and thus heavier). The force in the middle (towards the purple CoG visual) is the force applied as result of the length of the wire on the circle.\n",
    "\n",
    "Note that the forces due to weight are applied independently after applying the forces due to stretch. The wire does not re-distribute as results of the weight-forces to equalize. This makes the wire-tension discontinuous at contact points. In other words: there is friction, but only against weight forces.\n",
    "The result is that, because the wire on the left is longer and thus heavier, there is a resulting counter-clockwise moment on the suspended body in the middle. As a result is receives a small counter-clockwise rotation (in the visual the CoG is slightly towards the right of the circle)."
   ]
  },
  {
   "cell_type": "markdown",
   "metadata": {
    "pycharm": {
     "name": "#%% md\n"
    }
   },
   "source": [
    "## Single segment comparison to catenary\n",
    "\n",
    "To judge the accuracy of the model we can compare a single segment between two points with a catenary modelled by a beam node.\n"
   ]
  },
  {
   "cell_type": "code",
   "execution_count": 6,
   "metadata": {
    "collapsed": false,
    "jupyter": {
     "outputs_hidden": false
    },
    "pycharm": {
     "name": "#%%\n"
    }
   },
   "outputs": [],
   "source": [
    "s = Scene()\n",
    "\n",
    "EA = 10000\n",
    "\n",
    "s.new_point(name='Left', position = (0,0,-12))\n",
    "s.new_point(name='Right',\n",
    "            position=(10.0, 0, -10))\n",
    "\n",
    "# code for cable\n",
    "cab = s.new_cable(name='cable',\n",
    "                  endA='Right',\n",
    "                  endB='Left',\n",
    "                  EA=EA,\n",
    "                  mass=3,\n",
    "                  )\n",
    "\n",
    "# Visuals\n",
    "s.new_frame(name='Frame')\n",
    "s.new_visual(name='Visual',\n",
    "             parent='Frame',\n",
    "             path=r'res: cube.obj',\n",
    "             offset=(-1.0, 0.0, -12.0),\n",
    "             rotation=(0, 0, 0),\n",
    "             scale=(2.0, 1.0, 1.0))\n",
    "\n",
    "s.new_visual(name='Visual_1',\n",
    "             parent='Frame',\n",
    "             path=r'res: cube.obj',\n",
    "             offset=(10.0, 0.0, -9.5),\n",
    "             rotation=(0, 0, 0),\n",
    "             scale=(2.0, 1.0, 1.0))\n",
    "\n",
    "f1 = s.new_frame('f1', position = s['Left'].position)\n",
    "f2 = s.new_frame('f2', position = s['Right'].position)\n",
    "\n",
    "beam = s.new_beam('beam', f1, f2, EA = cab.EA, mass=cab.mass, n_segments=20, tension_only=True, L=cab.length)\n",
    "\n",
    "s.solve_statics()\n",
    "# Gui(s)\n",
    "\n",
    "_add_weight_forces_as_forces(s, cab)\n",
    "\n",
    "plotter = show(s, camera_pos=(4, -20, -11),\n",
    "               projection='2d',\n",
    "               scale=2,\n",
    "               lookat='y',\n",
    "               force_do_normalize=False,\n",
    "               force_scale=30.0,\n",
    "               geometry_scale=0.01,\n",
    "               painters='Construction',\n",
    "               width = 2000,\n",
    "               height = 600)"
   ]
  },
  {
   "cell_type": "markdown",
   "metadata": {
    "pycharm": {
     "name": "#%% md\n"
    }
   },
   "source": [
    "The straight line is the cable, the curved line is a beam catenary with the same length, EA and mass.\n",
    "\n",
    "It is clear that the weight forces are, as expected, in line with the shape of the catenary.\n",
    "\n",
    "We can check the forces as well."
   ]
  },
  {
   "cell_type": "markdown",
   "metadata": {
    "pycharm": {
     "name": "#%% md\n"
    }
   },
   "source": [
    "Left end"
   ]
  },
  {
   "cell_type": "code",
   "execution_count": 7,
   "metadata": {
    "collapsed": false,
    "jupyter": {
     "outputs_hidden": false
    },
    "pycharm": {
     "name": "#%%\n"
    }
   },
   "outputs": [
    {
     "data": {
      "text/html": [
       "<table align=\"left\" border=\"1\"><caption>Properties of Left (Point)</caption><tr><th style=\"text-align:left\">Property</th><th style=\"text-align:left\">Value</th><th style=\"text-align:left\">Unit</th><th style=\"text-align:left\">Remarks</th><th style=\"text-align:left\">Explained</th></tr><tr><td style=\"text-align:left\">fx</td><td style=\"text-align:left\">66.968</td><td style=\"text-align:left\">[kN]</td><td style=\"text-align:left\">parent axis</td><td style=\"text-align:left\">x component of applied force  </td></tr><tr><td style=\"text-align:left\">fz</td><td style=\"text-align:left\">-1.316</td><td style=\"text-align:left\">[kN]</td><td style=\"text-align:left\">parent axis</td><td style=\"text-align:left\">z component of applied force  </td></tr></table><BR CLEAR=LEFT>"
      ],
      "text/plain": [
       "<IPython.core.display.HTML object>"
      ]
     },
     "metadata": {},
     "output_type": "display_data"
    },
    {
     "data": {
      "text/html": [
       "<table align=\"left\" border=\"1\"><caption>Properties of f1 (Frame)</caption><tr><th style=\"text-align:left\">Property</th><th style=\"text-align:left\">Value</th><th style=\"text-align:left\">Unit</th><th style=\"text-align:left\">Remarks</th><th style=\"text-align:left\">Explained</th></tr><tr><td style=\"text-align:left\">connection_force_x</td><td style=\"text-align:left\">68.395</td><td style=\"text-align:left\">[kN]</td><td style=\"text-align:left\">Parent axis</td><td style=\"text-align:left\">The x-component of the connection-force vector  </td></tr><tr><td style=\"text-align:left\">connection_force_z</td><td style=\"text-align:left\">-0.833</td><td style=\"text-align:left\">[kN]</td><td style=\"text-align:left\">Parent axis</td><td style=\"text-align:left\">The z-component of the connection-force vector  </td></tr></table><BR CLEAR=LEFT>"
      ],
      "text/plain": [
       "<IPython.core.display.HTML object>"
      ]
     },
     "metadata": {},
     "output_type": "display_data"
    }
   ],
   "source": [
    "report(s['Left'],['fx','fz'])\n",
    "report(s['f1'],('connection_force_x','connection_force_z'))"
   ]
  },
  {
   "cell_type": "markdown",
   "metadata": {
    "pycharm": {
     "name": "#%% md\n"
    }
   },
   "source": [
    "Right end"
   ]
  },
  {
   "cell_type": "code",
   "execution_count": 8,
   "metadata": {
    "collapsed": false,
    "jupyter": {
     "outputs_hidden": false
    },
    "pycharm": {
     "name": "#%%\n"
    }
   },
   "outputs": [
    {
     "data": {
      "text/html": [
       "<table align=\"left\" border=\"1\"><caption>Properties of Right (Point)</caption><tr><th style=\"text-align:left\">Property</th><th style=\"text-align:left\">Value</th><th style=\"text-align:left\">Unit</th><th style=\"text-align:left\">Remarks</th><th style=\"text-align:left\">Explained</th></tr><tr><td style=\"text-align:left\">fx</td><td style=\"text-align:left\">-66.968</td><td style=\"text-align:left\">[kN]</td><td style=\"text-align:left\">parent axis</td><td style=\"text-align:left\">x component of applied force  </td></tr><tr><td style=\"text-align:left\">fz</td><td style=\"text-align:left\">-28.104</td><td style=\"text-align:left\">[kN]</td><td style=\"text-align:left\">parent axis</td><td style=\"text-align:left\">z component of applied force  </td></tr></table><BR CLEAR=LEFT>"
      ],
      "text/plain": [
       "<IPython.core.display.HTML object>"
      ]
     },
     "metadata": {},
     "output_type": "display_data"
    },
    {
     "data": {
      "text/html": [
       "<table align=\"left\" border=\"1\"><caption>Properties of f2 (Frame)</caption><tr><th style=\"text-align:left\">Property</th><th style=\"text-align:left\">Value</th><th style=\"text-align:left\">Unit</th><th style=\"text-align:left\">Remarks</th><th style=\"text-align:left\">Explained</th></tr><tr><td style=\"text-align:left\">connection_force_x</td><td style=\"text-align:left\">-68.395</td><td style=\"text-align:left\">[kN]</td><td style=\"text-align:left\">Parent axis</td><td style=\"text-align:left\">The x-component of the connection-force vector  </td></tr><tr><td style=\"text-align:left\">connection_force_z</td><td style=\"text-align:left\">-28.587</td><td style=\"text-align:left\">[kN]</td><td style=\"text-align:left\">Parent axis</td><td style=\"text-align:left\">The z-component of the connection-force vector  </td></tr></table><BR CLEAR=LEFT>"
      ],
      "text/plain": [
       "<IPython.core.display.HTML object>"
      ]
     },
     "metadata": {},
     "output_type": "display_data"
    }
   ],
   "source": [
    "report(s['Right'],['fx','fz'])\n",
    "report(s['f2'],('connection_force_x','connection_force_z'))"
   ]
  },
  {
   "cell_type": "markdown",
   "metadata": {
    "pycharm": {
     "name": "#%% md\n"
    }
   },
   "source": [
    "These values should have been equal, but they are not.\n",
    "\n",
    "The reason for the difference is that the estimation model is only valid if the tension in the cable due to stretch is at least the weight of the cable. In this case the stretch in the cable is 0 (the unstretched length of the cable is equal to the distance between the points).\n",
    "\n",
    "If the cable is made slightly shorter then the result will improve:"
   ]
  },
  {
   "cell_type": "code",
   "execution_count": 9,
   "metadata": {
    "collapsed": false,
    "jupyter": {
     "outputs_hidden": false
    },
    "pycharm": {
     "name": "#%%\n"
    }
   },
   "outputs": [
    {
     "data": {
      "text/html": [
       "<table align=\"left\" border=\"1\"><caption>Properties of cable (Cable)</caption><tr><th style=\"text-align:left\">Property</th><th style=\"text-align:left\">Value</th><th style=\"text-align:left\">Unit</th><th style=\"text-align:left\">Remarks</th><th style=\"text-align:left\">Explained</th></tr><tr><td style=\"text-align:left\">tension</td><td style=\"text-align:left\">216.093</td><td style=\"text-align:left\">[kN]</td><td style=\"text-align:left\"></td><td style=\"text-align:left\">Tension in the cable </td></tr></table><BR CLEAR=LEFT>"
      ],
      "text/plain": [
       "<IPython.core.display.HTML object>"
      ]
     },
     "metadata": {},
     "output_type": "display_data"
    },
    {
     "data": {
      "text/html": [
       "<table align=\"left\" border=\"1\"><caption>Properties of Right (Point)</caption><tr><th style=\"text-align:left\">Property</th><th style=\"text-align:left\">Value</th><th style=\"text-align:left\">Unit</th><th style=\"text-align:left\">Remarks</th><th style=\"text-align:left\">Explained</th></tr><tr><td style=\"text-align:left\">fx</td><td style=\"text-align:left\">-202.011</td><td style=\"text-align:left\">[kN]</td><td style=\"text-align:left\">parent axis</td><td style=\"text-align:left\">x component of applied force  </td></tr><tr><td style=\"text-align:left\">fz</td><td style=\"text-align:left\">-55.112</td><td style=\"text-align:left\">[kN]</td><td style=\"text-align:left\">parent axis</td><td style=\"text-align:left\">z component of applied force  </td></tr></table><BR CLEAR=LEFT>"
      ],
      "text/plain": [
       "<IPython.core.display.HTML object>"
      ]
     },
     "metadata": {},
     "output_type": "display_data"
    },
    {
     "data": {
      "text/html": [
       "<table align=\"left\" border=\"1\"><caption>Properties of f2 (Frame)</caption><tr><th style=\"text-align:left\">Property</th><th style=\"text-align:left\">Value</th><th style=\"text-align:left\">Unit</th><th style=\"text-align:left\">Remarks</th><th style=\"text-align:left\">Explained</th></tr><tr><td style=\"text-align:left\">connection_force_x</td><td style=\"text-align:left\">-202.145</td><td style=\"text-align:left\">[kN]</td><td style=\"text-align:left\">Parent axis</td><td style=\"text-align:left\">The x-component of the connection-force vector  </td></tr><tr><td style=\"text-align:left\">connection_force_z</td><td style=\"text-align:left\">-55.206</td><td style=\"text-align:left\">[kN]</td><td style=\"text-align:left\">Parent axis</td><td style=\"text-align:left\">The z-component of the connection-force vector  </td></tr></table><BR CLEAR=LEFT>"
      ],
      "text/plain": [
       "<IPython.core.display.HTML object>"
      ]
     },
     "metadata": {},
     "output_type": "display_data"
    },
    {
     "data": {
      "text/html": [
       "<table align=\"left\" border=\"1\"><caption>Properties of Left (Point)</caption><tr><th style=\"text-align:left\">Property</th><th style=\"text-align:left\">Value</th><th style=\"text-align:left\">Unit</th><th style=\"text-align:left\">Remarks</th><th style=\"text-align:left\">Explained</th></tr><tr><td style=\"text-align:left\">fx</td><td style=\"text-align:left\">202.011</td><td style=\"text-align:left\">[kN]</td><td style=\"text-align:left\">parent axis</td><td style=\"text-align:left\">x component of applied force  </td></tr><tr><td style=\"text-align:left\">fz</td><td style=\"text-align:left\">25.692</td><td style=\"text-align:left\">[kN]</td><td style=\"text-align:left\">parent axis</td><td style=\"text-align:left\">z component of applied force  </td></tr></table><BR CLEAR=LEFT>"
      ],
      "text/plain": [
       "<IPython.core.display.HTML object>"
      ]
     },
     "metadata": {},
     "output_type": "display_data"
    },
    {
     "data": {
      "text/html": [
       "<table align=\"left\" border=\"1\"><caption>Properties of f1 (Frame)</caption><tr><th style=\"text-align:left\">Property</th><th style=\"text-align:left\">Value</th><th style=\"text-align:left\">Unit</th><th style=\"text-align:left\">Remarks</th><th style=\"text-align:left\">Explained</th></tr><tr><td style=\"text-align:left\">connection_force_x</td><td style=\"text-align:left\">202.145</td><td style=\"text-align:left\">[kN]</td><td style=\"text-align:left\">Parent axis</td><td style=\"text-align:left\">The x-component of the connection-force vector  </td></tr><tr><td style=\"text-align:left\">connection_force_z</td><td style=\"text-align:left\">25.786</td><td style=\"text-align:left\">[kN]</td><td style=\"text-align:left\">Parent axis</td><td style=\"text-align:left\">The z-component of the connection-force vector  </td></tr></table><BR CLEAR=LEFT>"
      ],
      "text/plain": [
       "<IPython.core.display.HTML object>"
      ]
     },
     "metadata": {},
     "output_type": "display_data"
    }
   ],
   "source": [
    "s['cable'].length = 10\n",
    "s['cable'].mass = 3\n",
    "s['beam'].L = 10\n",
    "s.solve_statics()\n",
    "\n",
    "report(s['cable'],'tension')\n",
    "report(s['Right'],['fx','fz'])\n",
    "report(s['f2'],('connection_force_x','connection_force_z'))\n",
    "report(s['Left'],['fx','fz'])\n",
    "report(s['f1'],('connection_force_x','connection_force_z'))"
   ]
  },
  {
   "cell_type": "markdown",
   "metadata": {
    "pycharm": {
     "name": "#%% md\n"
    }
   },
   "source": [
    "It is good to mention that the sum of the vertical forces at both ends is always equal to the weight of the cable (no weight is lost) and that the horizontal components are equal and opposite (no resultant external force)."
   ]
  },
  {
   "cell_type": "code",
   "execution_count": 10,
   "metadata": {
    "collapsed": false,
    "jupyter": {
     "outputs_hidden": false
    },
    "pycharm": {
     "name": "#%%\n"
    }
   },
   "outputs": [
    {
     "data": {
      "text/plain": [
       "3.552713678800501e-15"
      ]
     },
     "execution_count": 10,
     "metadata": {},
     "output_type": "execute_result"
    }
   ],
   "source": [
    "s['Right'].fz + s['Left'].fz + s.g * cab.mass"
   ]
  },
  {
   "cell_type": "code",
   "execution_count": 11,
   "metadata": {
    "collapsed": false,
    "jupyter": {
     "outputs_hidden": false
    },
    "pycharm": {
     "name": "#%%\n"
    }
   },
   "outputs": [
    {
     "data": {
      "text/plain": [
       "0.0"
      ]
     },
     "execution_count": 11,
     "metadata": {},
     "output_type": "execute_result"
    }
   ],
   "source": [
    "s['Right'].fx + s['Left'].fx"
   ]
  },
  {
   "cell_type": "markdown",
   "metadata": {
    "pycharm": {
     "name": "#%% md\n"
    }
   },
   "source": [
    "So the only effect of inaccuracies in the estimation is in the *distribution* of the vertical force over the endpoints and the added horizontal force between the endpoints."
   ]
  },
  {
   "cell_type": "markdown",
   "metadata": {
    "pycharm": {
     "name": "#%% md\n"
    }
   },
   "source": [
    "## Results for a typical lifting cable\n",
    "\n",
    "We consider a typical lifting cable with the following properties:\n",
    "\n",
    "- EA = 2.5e5 [kN] (2.34...2.55 e5)\n",
    "- 20 kg/m\n",
    "- ~ 300 mT MBL\n",
    "- s.f. of 3 --> 100 mT limit --> typical use: 50 mT\n",
    "- 10m wire, 200 kg = 0.2 mT\n",
    "- pre-tension = 500 kN\n",
    "\n",
    "Angle: 60 degrees from horizontal."
   ]
  },
  {
   "cell_type": "code",
   "execution_count": 12,
   "metadata": {
    "collapsed": false,
    "jupyter": {
     "outputs_hidden": false
    },
    "pycharm": {
     "name": "#%%\n"
    }
   },
   "outputs": [],
   "source": [
    "s = Scene()\n",
    "\n",
    "EA = 2.5e5\n",
    "L = 10\n",
    "mass = 0.2\n",
    "pre_tension = 500\n",
    "\n",
    "s.new_point(name='Left', position = (0,0,0))\n",
    "s.new_point(name='Right',position=(L * np.cos(np.deg2rad(60)), 0 , L * np.sin(np.deg2rad(60))))\n",
    "# code for cable\n",
    "cab = s.new_cable(name='cable',\n",
    "                  endA='Left',\n",
    "                  endB='Right',\n",
    "                  EA=EA,\n",
    "                  mass=mass,\n",
    "                  length = L\n",
    "                  )\n",
    "cab.set_length_for_tension(pre_tension) # neglecting mass\n",
    "\n",
    "# equivalent discrete catenary\n",
    "f1 = s.new_frame('f1', position = s['Left'].position)\n",
    "f2 = s.new_frame('f2', position = s['Right'].position)\n",
    "\n",
    "beam = s.new_beam('beam', f1, f2, EA = cab.EA, mass=cab.mass, n_segments=20, tension_only=True, L=cab.length)\n",
    "\n",
    "s.solve_statics()\n",
    "# Gui(s)\n",
    "\n",
    "_add_weight_forces_as_forces(s, cab)\n",
    "\n",
    "plotter = show(s, camera_pos=(4, -20, -11),\n",
    "               projection='2d',\n",
    "               lookat='y',\n",
    "               force_do_normalize=False,\n",
    "               force_scale=30.0,\n",
    "               geometry_scale=0.01,\n",
    "               painters='Construction',\n",
    "               zoom_fit = True,\n",
    "               )"
   ]
  },
  {
   "cell_type": "code",
   "execution_count": 13,
   "metadata": {
    "collapsed": false,
    "jupyter": {
     "outputs_hidden": false
    },
    "pycharm": {
     "name": "#%%\n"
    }
   },
   "outputs": [
    {
     "data": {
      "text/html": [
       "<table align=\"left\" border=\"1\"><caption>Properties of cable (Cable)</caption><tr><th style=\"text-align:left\">Property</th><th style=\"text-align:left\">Value</th><th style=\"text-align:left\">Unit</th><th style=\"text-align:left\">Remarks</th><th style=\"text-align:left\">Explained</th></tr><tr><td style=\"text-align:left\">tension</td><td style=\"text-align:left\">501.010</td><td style=\"text-align:left\">[kN]</td><td style=\"text-align:left\"></td><td style=\"text-align:left\">Tension in the cable </td></tr></table><BR CLEAR=LEFT>"
      ],
      "text/plain": [
       "<IPython.core.display.HTML object>"
      ]
     },
     "metadata": {},
     "output_type": "display_data"
    },
    {
     "data": {
      "text/html": [
       "<table align=\"left\" border=\"1\"><caption>Properties of Right (Point)</caption><tr><th style=\"text-align:left\">Property</th><th style=\"text-align:left\">Value</th><th style=\"text-align:left\">Unit</th><th style=\"text-align:left\">Remarks</th><th style=\"text-align:left\">Explained</th></tr><tr><td style=\"text-align:left\">fx</td><td style=\"text-align:left\">-250.018</td><td style=\"text-align:left\">[kN]</td><td style=\"text-align:left\">parent axis</td><td style=\"text-align:left\">x component of applied force  </td></tr><tr><td style=\"text-align:left\">fz</td><td style=\"text-align:left\">-434.023</td><td style=\"text-align:left\">[kN]</td><td style=\"text-align:left\">parent axis</td><td style=\"text-align:left\">z component of applied force  </td></tr></table><BR CLEAR=LEFT>"
      ],
      "text/plain": [
       "<IPython.core.display.HTML object>"
      ]
     },
     "metadata": {},
     "output_type": "display_data"
    },
    {
     "data": {
      "text/html": [
       "<table align=\"left\" border=\"1\"><caption>Properties of f2 (Frame)</caption><tr><th style=\"text-align:left\">Property</th><th style=\"text-align:left\">Value</th><th style=\"text-align:left\">Unit</th><th style=\"text-align:left\">Remarks</th><th style=\"text-align:left\">Explained</th></tr><tr><td style=\"text-align:left\">connection_force_x</td><td style=\"text-align:left\">-250.020</td><td style=\"text-align:left\">[kN]</td><td style=\"text-align:left\">Parent axis</td><td style=\"text-align:left\">The x-component of the connection-force vector  </td></tr><tr><td style=\"text-align:left\">connection_force_z</td><td style=\"text-align:left\">-434.026</td><td style=\"text-align:left\">[kN]</td><td style=\"text-align:left\">Parent axis</td><td style=\"text-align:left\">The z-component of the connection-force vector  </td></tr></table><BR CLEAR=LEFT>"
      ],
      "text/plain": [
       "<IPython.core.display.HTML object>"
      ]
     },
     "metadata": {},
     "output_type": "display_data"
    },
    {
     "data": {
      "text/html": [
       "<table align=\"left\" border=\"1\"><caption>Properties of Left (Point)</caption><tr><th style=\"text-align:left\">Property</th><th style=\"text-align:left\">Value</th><th style=\"text-align:left\">Unit</th><th style=\"text-align:left\">Remarks</th><th style=\"text-align:left\">Explained</th></tr><tr><td style=\"text-align:left\">fx</td><td style=\"text-align:left\">250.018</td><td style=\"text-align:left\">[kN]</td><td style=\"text-align:left\">parent axis</td><td style=\"text-align:left\">x component of applied force  </td></tr><tr><td style=\"text-align:left\">fz</td><td style=\"text-align:left\">432.065</td><td style=\"text-align:left\">[kN]</td><td style=\"text-align:left\">parent axis</td><td style=\"text-align:left\">z component of applied force  </td></tr></table><BR CLEAR=LEFT>"
      ],
      "text/plain": [
       "<IPython.core.display.HTML object>"
      ]
     },
     "metadata": {},
     "output_type": "display_data"
    },
    {
     "data": {
      "text/html": [
       "<table align=\"left\" border=\"1\"><caption>Properties of f1 (Frame)</caption><tr><th style=\"text-align:left\">Property</th><th style=\"text-align:left\">Value</th><th style=\"text-align:left\">Unit</th><th style=\"text-align:left\">Remarks</th><th style=\"text-align:left\">Explained</th></tr><tr><td style=\"text-align:left\">connection_force_x</td><td style=\"text-align:left\">250.020</td><td style=\"text-align:left\">[kN]</td><td style=\"text-align:left\">Parent axis</td><td style=\"text-align:left\">The x-component of the connection-force vector  </td></tr><tr><td style=\"text-align:left\">connection_force_z</td><td style=\"text-align:left\">432.069</td><td style=\"text-align:left\">[kN]</td><td style=\"text-align:left\">Parent axis</td><td style=\"text-align:left\">The z-component of the connection-force vector  </td></tr></table><BR CLEAR=LEFT>"
      ],
      "text/plain": [
       "<IPython.core.display.HTML object>"
      ]
     },
     "metadata": {},
     "output_type": "display_data"
    }
   ],
   "source": [
    "report(s['cable'],'tension')\n",
    "report(s['Right'],['fx','fz'])\n",
    "report(s['f2'],('connection_force_x','connection_force_z'))\n",
    "report(s['Left'],['fx','fz'])\n",
    "report(s['f1'],('connection_force_x','connection_force_z'))"
   ]
  },
  {
   "cell_type": "markdown",
   "metadata": {
    "pycharm": {
     "name": "#%% md\n"
    }
   },
   "source": [
    "This check for a typical lifting situation shows that the accuracy is more than sufficient for rigging calculations."
   ]
  },
  {
   "cell_type": "code",
   "execution_count": null,
   "metadata": {
    "collapsed": false,
    "jupyter": {
     "outputs_hidden": false
    },
    "pycharm": {
     "name": "#%%\n"
    }
   },
   "outputs": [],
   "source": []
  }
 ],
 "metadata": {
  "kernelspec": {
   "display_name": "Python 3 (ipykernel)",
   "language": "python",
   "name": "python3"
  },
  "language_info": {
   "codemirror_mode": {
    "name": "ipython",
    "version": 3
   },
   "file_extension": ".py",
   "mimetype": "text/x-python",
   "name": "python",
   "nbconvert_exporter": "python",
   "pygments_lexer": "ipython3",
   "version": "3.11.3"
  }
 },
 "nbformat": 4,
 "nbformat_minor": 4
}
