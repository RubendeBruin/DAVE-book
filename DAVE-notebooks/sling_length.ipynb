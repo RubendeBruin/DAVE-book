{
 "cells": [
  {
   "cell_type": "markdown",
   "metadata": {
    "pycharm": {
     "name": "#%% md\n"
    }
   },
   "source": [
    "# Slings\n",
    "\n",
    "Slings are modelled as a combination of cable and rigid-body nodes.\n",
    "Cables are used for the eyes, splices and the mid-section of the sling.\n",
    "The mass of the sling is included in the rigidbody nodes.\n",
    "\n",
    "The length of a sling is defined by the \"ultimate\" length. That is the length between the\n",
    "insides of the eyes when the sling pulled tight over pins with a diameter of zero.\n",
    "\n",
    ":::{tip}\n",
    "The \"Rigging\" package for DAVE includes methods to define slings and grommets using their ultimate, nominal or circumferencal length as well as to set their stiffness from the diameter and make.\n",
    ":::\n",
    "\n",
    "![image](./../images/sling_length.png)"
   ]
  },
  {
   "cell_type": "code",
   "execution_count": 4,
   "metadata": {},
   "outputs": [
    {
     "data": {
      "image/png": "[encoded data removed]",
      "text/plain": [
       "<PIL.Image.Image image mode=RGB size=1600x600>"
      ]
     },
     "execution_count": 4,
     "metadata": {},
     "output_type": "execute_result"
    }
   ],
   "source": [
    "from DAVE import *\n",
    "from DAVE.jupyter import *\n",
    "\n",
    "s = Scene()\n",
    "\n",
    "# code for Frame\n",
    "s.new_frame(name='Frame',\n",
    "           position=(10.0,\n",
    "                     0.0,\n",
    "                     0.0),\n",
    "           rotation=(0.0,\n",
    "                     0.0,\n",
    "                     0.0),\n",
    "           fixed =(False, True, True, True, True, True) )  # Free only in X\n",
    "# code for Point\n",
    "s.new_point(name='Left',\n",
    "          parent=None,\n",
    "          position=(0.0,\n",
    "                    0.0,\n",
    "                    0.0))\n",
    "# code for Point_1\n",
    "s.new_point(name='Right',\n",
    "          parent='Frame',\n",
    "          position=(0.0,\n",
    "                    0.0,\n",
    "                    0.0))\n",
    "# code for Circle\n",
    "s.new_circle(name='Circle',\n",
    "            parent='Left',\n",
    "            axis=(0.0, 1.0, 0.0),\n",
    "            radius=0.0 )\n",
    "# code for Circle_1\n",
    "s.new_circle(name='Circle_1',\n",
    "            parent='Right',\n",
    "            axis=(0.0, 1.0, 0.0),\n",
    "            radius=0.0 )\n",
    "# Exporting sling\n",
    "# Create sling\n",
    "sling = s.new_sling(\"sling\", length = 10.0,\n",
    "            LeyeA = 2,\n",
    "            LeyeB = 2,\n",
    "            LspliceA = 1,\n",
    "            LspliceB = 1,\n",
    "            diameter = 0.1,\n",
    "            EA = 1000000.0,\n",
    "            mass = 0.0,\n",
    "            endA = \"Circle\",\n",
    "            endB = \"Circle_1\",\n",
    "            sheaves = None)\n",
    "\n",
    "s.new_force('small_load', parent = 'Right', force = (1,0,0))\n",
    "\n",
    "s.solve_statics()\n",
    "\n",
    "show(s, camera_pos = (5, -10, 0),\n",
    "     lookat = (5,0,0),\n",
    "     painters = 'Visual',\n",
    "     width=1600,\n",
    "     height=600,\n",
    "     zoom_fit = False)"
   ]
  },
  {
   "cell_type": "markdown",
   "metadata": {
    "pycharm": {
     "name": "#%% md\n"
    }
   },
   "source": [
    "The distance between the insides of the loops is defined to be 10m.\n",
    "\n",
    "This length is distributed over the following items:\n",
    "\n",
    "| Item | Length [m] |\n",
    "|------|--------|\n",
    "|left eye | 2 |\n",
    "|left splice | 1 |\n",
    "|main part | 4 |\n",
    "|right splice | 1 |\n",
    "|right eye | 2 |\n",
    "\n",
    "The amount of wire in the eyes is such that is accounts for the two legs as well as the length\n",
    "of the bend around a zero diameter pin.\n",
    "\n",
    "$L_{wire} = 2 * L_{eye} + \\pi * d/2$\n",
    "\n",
    "In this case the diamter of the wire is 0.1m which makes the length in the eye 2 * 2 + 3.141 * 0.1 * 0.5 = 4.157m\n"
   ]
  },
  {
   "cell_type": "code",
   "execution_count": 5,
   "metadata": {
    "collapsed": false,
    "jupyter": {
     "outputs_hidden": false
    },
    "pycharm": {
     "name": "#%%\n"
    }
   },
   "outputs": [
    {
     "data": {
      "text/html": [
       "<table align=\"left\" border=\"1\"><caption>Properties of sling>>>_main_part (Cable)</caption><tr><th style=\"text-align:left\">Property</th><th style=\"text-align:left\">Value</th><th style=\"text-align:left\">Unit</th><th style=\"text-align:left\">Remarks</th><th style=\"text-align:left\">Explained</th></tr><tr><td style=\"text-align:left\">length</td><td style=\"text-align:left\">4.000</td><td style=\"text-align:left\">[m]</td><td style=\"text-align:left\"></td><td style=\"text-align:left\">Length of the cable when in rest </td></tr></table><BR CLEAR=LEFT>"
      ],
      "text/plain": [
       "<IPython.core.display.HTML object>"
      ]
     },
     "metadata": {},
     "output_type": "display_data"
    },
    {
     "data": {
      "text/html": [
       "<table align=\"left\" border=\"1\"><caption>Properties of sling>>>_eyeA (Cable)</caption><tr><th style=\"text-align:left\">Property</th><th style=\"text-align:left\">Value</th><th style=\"text-align:left\">Unit</th><th style=\"text-align:left\">Remarks</th><th style=\"text-align:left\">Explained</th></tr><tr><td style=\"text-align:left\">length</td><td style=\"text-align:left\">4.158</td><td style=\"text-align:left\">[m]</td><td style=\"text-align:left\"></td><td style=\"text-align:left\">Length of the cable when in rest </td></tr></table><BR CLEAR=LEFT>"
      ],
      "text/plain": [
       "<IPython.core.display.HTML object>"
      ]
     },
     "metadata": {},
     "output_type": "display_data"
    },
    {
     "data": {
      "text/html": [
       "<table align=\"left\" border=\"1\"><caption>Properties of sling>>>_eyeB (Cable)</caption><tr><th style=\"text-align:left\">Property</th><th style=\"text-align:left\">Value</th><th style=\"text-align:left\">Unit</th><th style=\"text-align:left\">Remarks</th><th style=\"text-align:left\">Explained</th></tr><tr><td style=\"text-align:left\">length</td><td style=\"text-align:left\">4.158</td><td style=\"text-align:left\">[m]</td><td style=\"text-align:left\"></td><td style=\"text-align:left\">Length of the cable when in rest </td></tr></table><BR CLEAR=LEFT>"
      ],
      "text/plain": [
       "<IPython.core.display.HTML object>"
      ]
     },
     "metadata": {},
     "output_type": "display_data"
    },
    {
     "data": {
      "text/html": [
       "<table align=\"left\" border=\"1\"><caption>Properties of sling>>>_spliceA (Cable)</caption><tr><th style=\"text-align:left\">Property</th><th style=\"text-align:left\">Value</th><th style=\"text-align:left\">Unit</th><th style=\"text-align:left\">Remarks</th><th style=\"text-align:left\">Explained</th></tr><tr><td style=\"text-align:left\">length</td><td style=\"text-align:left\">1.000</td><td style=\"text-align:left\">[m]</td><td style=\"text-align:left\"></td><td style=\"text-align:left\">Length of the cable when in rest </td></tr></table><BR CLEAR=LEFT>"
      ],
      "text/plain": [
       "<IPython.core.display.HTML object>"
      ]
     },
     "metadata": {},
     "output_type": "display_data"
    },
    {
     "data": {
      "text/html": [
       "<table align=\"left\" border=\"1\"><caption>Properties of sling>>>_spliceB (Cable)</caption><tr><th style=\"text-align:left\">Property</th><th style=\"text-align:left\">Value</th><th style=\"text-align:left\">Unit</th><th style=\"text-align:left\">Remarks</th><th style=\"text-align:left\">Explained</th></tr><tr><td style=\"text-align:left\">length</td><td style=\"text-align:left\">1.000</td><td style=\"text-align:left\">[m]</td><td style=\"text-align:left\"></td><td style=\"text-align:left\">Length of the cable when in rest </td></tr></table><BR CLEAR=LEFT>"
      ],
      "text/plain": [
       "<IPython.core.display.HTML object>"
      ]
     },
     "metadata": {},
     "output_type": "display_data"
    }
   ],
   "source": [
    "for n in s.nodes_of_type(Cable):\n",
    "    report(n, ['length'])"
   ]
  },
  {
   "cell_type": "markdown",
   "metadata": {
    "pycharm": {
     "name": "#%% md\n"
    }
   },
   "source": [
    "To double-check the length the sling is pulled tight by a tiny force. The distance between the\n",
    "two zero-diameter pins should be just over 10.000m\n",
    "\n",
    "- The left end of the sling is located at 0,0,0.\n",
    "- the unstretched length of the sling is 10m\n",
    "- The right pin should be at x=10m"
   ]
  },
  {
   "cell_type": "code",
   "execution_count": 7,
   "metadata": {
    "collapsed": false,
    "jupyter": {
     "outputs_hidden": false
    },
    "pycharm": {
     "name": "#%%\n"
    }
   },
   "outputs": [
    {
     "name": "stdout",
     "output_type": "stream",
     "text": [
      "Right at 10.000007m\n"
     ]
    }
   ],
   "source": [
    "print(f'Right at {s[\"Right\"].global_position[0]:.6f}m')\n"
   ]
  },
  {
   "cell_type": "markdown",
   "metadata": {
    "pycharm": {
     "name": "#%% md\n"
    }
   },
   "source": [
    "## Stiffness\n",
    "\n",
    "The stiffness of the wire of the sling is defined by EA of the wire.\n",
    "The wire (Cable) in the eyes of the sling has this EA.\n",
    "\n",
    "![image](./../images/sling_EA.png)\n",
    "\n",
    "In reality the splices of the sling should have a stiffness of 2 * EA. In the model however they\n",
    "are modelled using a body with infinite stiffness.\n",
    "The EA of the main-part is therefore adjusted to correct for that.\n",
    "\n",
    "\n",
    "In practice it can be more practical to define the stiffness of the sling by its total stiffness (k).\n",
    "\n",
    "$ k = { EA_{effective} \\over L_{ultimate}}  [kN/m]$\n",
    "\n",
    "$ k_{main} = EA / (L_{main}) $\n",
    "\n",
    "$ k_{splice} = 2EA / (L_{splice}) $\n",
    "\n",
    "$ k_{eye} = 4 EA / (L_{wire,eye}) $\n",
    "\n",
    "$ k_{total} = { 1 \\over 1/k_{eye,left} + 1/k_{splice,left} + 1/k_{main} + 1/k_{eye,right} + 1/k_{splice,right}} $\n",
    "\n",
    "\n"
   ]
  },
  {
   "cell_type": "code",
   "execution_count": 8,
   "metadata": {
    "collapsed": false,
    "jupyter": {
     "outputs_hidden": false
    },
    "pycharm": {
     "name": "#%%\n"
    }
   },
   "outputs": [
    {
     "name": "stdout",
     "output_type": "stream",
     "text": [
      "141.2596007219238\n"
     ]
    }
   ],
   "source": [
    "sling.EA = 1000 # kN/m\n",
    "k = sling.k_total\n",
    "print(sling.k_total)"
   ]
  },
  {
   "cell_type": "markdown",
   "metadata": {
    "pycharm": {
     "name": "#%% md\n"
    }
   },
   "source": [
    "Apply 141.26 kN of force, and check that the sling extends 1m.\n",
    "\n",
    "- The left end of the sling is located at 0,0,0.\n",
    "- the unstretched length of the sling is 10m\n",
    "- The stretch is 1m\n",
    "\n",
    "so the right end should be at x=11m"
   ]
  },
  {
   "cell_type": "code",
   "execution_count": 10,
   "metadata": {
    "collapsed": false,
    "jupyter": {
     "outputs_hidden": false
    },
    "pycharm": {
     "name": "#%%\n"
    }
   },
   "outputs": [
    {
     "name": "stdout",
     "output_type": "stream",
     "text": [
      "Right at 11.000m\n"
     ]
    }
   ],
   "source": [
    "s['small_load'].force = (k,0,0)\n",
    "s.solve_statics()\n",
    "\n",
    "print(f'Right at {s[\"Right\"].global_position[0]:.3f}m')\n"
   ]
  },
  {
   "cell_type": "markdown",
   "metadata": {
    "pycharm": {
     "name": "#%% md\n"
    }
   },
   "source": [
    "The total stiffness can also be set:"
   ]
  },
  {
   "cell_type": "code",
   "execution_count": 11,
   "metadata": {
    "collapsed": false,
    "jupyter": {
     "outputs_hidden": false
    },
    "pycharm": {
     "name": "#%%\n"
    }
   },
   "outputs": [
    {
     "name": "stdout",
     "output_type": "stream",
     "text": [
      "Total stiffness set to 1000.00 [kN/m]\n",
      "Resulting EA: 7079.16 [kN]\n"
     ]
    }
   ],
   "source": [
    "sling.k_total = 1000\n",
    "print(f'Total stiffness set to {sling.k_total:.2f} [kN/m]')\n",
    "print(f'Resulting EA: {sling.EA:.2f} [kN]')"
   ]
  },
  {
   "cell_type": "markdown",
   "metadata": {},
   "source": [
    "And check the extension for 1000 kN force:"
   ]
  },
  {
   "cell_type": "code",
   "execution_count": 12,
   "metadata": {
    "collapsed": false,
    "jupyter": {
     "outputs_hidden": false
    },
    "pycharm": {
     "name": "#%%\n"
    }
   },
   "outputs": [
    {
     "name": "stdout",
     "output_type": "stream",
     "text": [
      "Right at 11.000m\n"
     ]
    }
   ],
   "source": [
    "s['small_load'].force = (1000,0,0)\n",
    "s.solve_statics()\n",
    "\n",
    "print(f'Right at {s[\"Right\"].global_position[0]:.3f}m')"
   ]
  },
  {
   "cell_type": "markdown",
   "metadata": {
    "pycharm": {
     "name": "#%% md\n"
    }
   },
   "source": [
    "When changing the length of a sling, the EA stays the same. This means the k changes:"
   ]
  },
  {
   "cell_type": "code",
   "execution_count": 13,
   "metadata": {
    "collapsed": false,
    "jupyter": {
     "outputs_hidden": false
    },
    "pycharm": {
     "name": "#%%\n"
    }
   },
   "outputs": [
    {
     "name": "stdout",
     "output_type": "stream",
     "text": [
      "Total stiffness: 414.49 [kN/m]\n",
      "Resulting EA: 7079.16 [kN]\n"
     ]
    }
   ],
   "source": [
    "sling.length = 20\n",
    "\n",
    "print(f'Total stiffness: {sling.k_total:.2f} [kN/m]')\n",
    "print(f'Resulting EA: {sling.EA:.2f} [kN]')\n"
   ]
  }
 ],
 "metadata": {
  "kernelspec": {
   "display_name": "Python 3 (ipykernel)",
   "language": "python",
   "name": "python3"
  },
  "language_info": {
   "codemirror_mode": {
    "name": "ipython",
    "version": 3
   },
   "file_extension": ".py",
   "mimetype": "text/x-python",
   "name": "python",
   "nbconvert_exporter": "python",
   "pygments_lexer": "ipython3",
   "version": "3.11.3"
  }
 },
 "nbformat": 4,
 "nbformat_minor": 4
}
