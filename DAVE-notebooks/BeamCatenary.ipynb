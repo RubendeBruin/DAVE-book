{
 "cells": [
  {
   "cell_type": "markdown",
   "metadata": {},
   "source": [
    "# Beams - catenaries\n",
    "\n",
    "This notebook shows how to use Beam elements model a catenary.\n",
    "\n",
    "For more info on beams see \"Beams - structural beams\".\n",
    "\n",
    "This may sound strange, but a wire is just a beam without bending and torsion stiffness.\n",
    "\n",
    "Also, to avoid the beam from coiling up, we can set the tension_only parameter to True."
   ]
  },
  {
   "cell_type": "code",
   "execution_count": 1,
   "metadata": {},
   "outputs": [
    {
     "name": "stdout",
     "output_type": "stream",
     "text": [
      "Equilibrium-core version = 2.48 from c:\\python\\miniconda3\\envs\\book\\lib\\site-packages\\pyo3d.cp39-win_amd64.pyd\n",
      "default resource folders:\n",
      "c:\\python\\miniconda3\\envs\\book\\lib\\site-packages\\DAVE\\resources\n",
      "C:\\Users\\beneden\\DAVE_models\n",
      "C:\\data\\Dave\\Book\\DAVE-book\\DAVE-notebooks\n",
      "Blender found at: C:\\Program Files\\Blender Foundation\\Blender 3.3\\blender.exe\n"
     ]
    }
   ],
   "source": [
    "from DAVE import *\n",
    "from DAVE.jupyter import *\n",
    "s = Scene();"
   ]
  },
  {
   "cell_type": "code",
   "execution_count": 2,
   "metadata": {},
   "outputs": [
    {
     "name": "stderr",
     "output_type": "stream",
     "text": [
      "c:\\python\\miniconda3\\envs\\book\\lib\\site-packages\\DAVE\\scene.py:1669: UserWarning: new_axis is deprecated, use new_frame instead\n",
      "  warnings.warn(\"new_axis is deprecated, use new_frame instead\")\n"
     ]
    },
    {
     "data": {
      "text/plain": [
       "True"
      ]
     },
     "execution_count": 2,
     "metadata": {},
     "output_type": "execute_result"
    }
   ],
   "source": [
    "left = s.new_axis(\"left\", position = (0,0,10))\n",
    "right = s.new_axis(\"right\", position = (10,0,10))\n",
    "cable = s.new_beam(\"cable\", nodeA=left, nodeB = right,\n",
    "                        EA = 10000,\n",
    "                        EIy = 0, EIz = 0, GIp = 0,\n",
    "                        L=20,\n",
    "                        mass = 10,\n",
    "                        tension_only = True,\n",
    "                        n_segments=17)\n",
    "\n",
    "s.solve_statics()"
   ]
  },
  {
   "cell_type": "code",
   "execution_count": 3,
   "metadata": {},
   "outputs": [
    {
     "ename": "TypeError",
     "evalue": "__init__() got an unexpected keyword argument 'sx'",
     "output_type": "error",
     "traceback": [
      "\u001b[1;31m---------------------------------------------------------------------------\u001b[0m",
      "\u001b[1;31mTypeError\u001b[0m                                 Traceback (most recent call last)",
      "Cell \u001b[1;32mIn [3], line 1\u001b[0m\n\u001b[1;32m----> 1\u001b[0m \u001b[43mshow\u001b[49m\u001b[43m(\u001b[49m\u001b[43ms\u001b[49m\u001b[43m,\u001b[49m\u001b[43m \u001b[49m\u001b[43mcamera_pos\u001b[49m\u001b[38;5;241;43m=\u001b[39;49m\u001b[43m(\u001b[49m\u001b[38;5;241;43m5\u001b[39;49m\u001b[43m,\u001b[49m\u001b[38;5;241;43m-\u001b[39;49m\u001b[38;5;241;43m30\u001b[39;49m\u001b[43m,\u001b[49m\u001b[38;5;241;43m6\u001b[39;49m\u001b[43m)\u001b[49m\u001b[43m,\u001b[49m\u001b[43m \u001b[49m\u001b[43mlookat\u001b[49m\u001b[43m \u001b[49m\u001b[38;5;241;43m=\u001b[39;49m\u001b[43m \u001b[49m\u001b[43m(\u001b[49m\u001b[38;5;241;43m5\u001b[39;49m\u001b[43m,\u001b[49m\u001b[38;5;241;43m0\u001b[39;49m\u001b[43m,\u001b[49m\u001b[38;5;241;43m5\u001b[39;49m\u001b[43m)\u001b[49m\u001b[43m)\u001b[49m\n",
      "File \u001b[1;32mc:\\python\\miniconda3\\envs\\book\\lib\\site-packages\\DAVE\\jupyter\\jupyter.py:124\u001b[0m, in \u001b[0;36mshow\u001b[1;34m(scene, camera_pos, lookat, width, height, show_force, show_meshes, show_global, show_cog, cog_do_normalize, cog_scale, force_do_normalize, force_scale, geometry_scale, painters, additional_actors, paint_uc, projection, zoom_fit, scale)\u001b[0m\n\u001b[0;32m    121\u001b[0m vp\u001b[38;5;241m.\u001b[39msetup_screen(offscreen\u001b[38;5;241m=\u001b[39m\u001b[38;5;28;01mTrue\u001b[39;00m, size\u001b[38;5;241m=\u001b[39m(width, height))\n\u001b[0;32m    123\u001b[0m vp\u001b[38;5;241m.\u001b[39mcreate_node_visuals(recreate\u001b[38;5;241m=\u001b[39m\u001b[38;5;28;01mTrue\u001b[39;00m)\n\u001b[1;32m--> 124\u001b[0m \u001b[43mvp\u001b[49m\u001b[38;5;241;43m.\u001b[39;49m\u001b[43mcreate_world_actors\u001b[49m\u001b[43m(\u001b[49m\u001b[43m)\u001b[49m\n\u001b[0;32m    126\u001b[0m vp\u001b[38;5;241m.\u001b[39mposition_visuals()\n\u001b[0;32m    128\u001b[0m \u001b[38;5;28;01mfor\u001b[39;00m a \u001b[38;5;129;01min\u001b[39;00m additional_actors:\n",
      "File \u001b[1;32mc:\\python\\miniconda3\\envs\\book\\lib\\site-packages\\DAVE\\visual.py:1805\u001b[0m, in \u001b[0;36mViewport.create_world_actors\u001b[1;34m(self)\u001b[0m\n\u001b[0;32m   1802\u001b[0m \u001b[38;5;28;01mif\u001b[39;00m \u001b[38;5;124m\"\u001b[39m\u001b[38;5;124msea\u001b[39m\u001b[38;5;124m\"\u001b[39m \u001b[38;5;129;01min\u001b[39;00m \u001b[38;5;28mself\u001b[39m\u001b[38;5;241m.\u001b[39mglobal_visuals:\n\u001b[0;32m   1803\u001b[0m     \u001b[38;5;28;01mraise\u001b[39;00m \u001b[38;5;167;01mValueError\u001b[39;00m(\u001b[38;5;124m\"\u001b[39m\u001b[38;5;124mGlobal visuals already created - can not create again\u001b[39m\u001b[38;5;124m\"\u001b[39m)\n\u001b[1;32m-> 1805\u001b[0m plane \u001b[38;5;241m=\u001b[39m \u001b[43mvp\u001b[49m\u001b[38;5;241;43m.\u001b[39;49m\u001b[43mPlane\u001b[49m\u001b[43m(\u001b[49m\u001b[43mpos\u001b[49m\u001b[38;5;241;43m=\u001b[39;49m\u001b[43m(\u001b[49m\u001b[38;5;241;43m0\u001b[39;49m\u001b[43m,\u001b[49m\u001b[43m \u001b[49m\u001b[38;5;241;43m0\u001b[39;49m\u001b[43m,\u001b[49m\u001b[43m \u001b[49m\u001b[38;5;241;43m0\u001b[39;49m\u001b[43m)\u001b[49m\u001b[43m,\u001b[49m\u001b[43m \u001b[49m\u001b[43mnormal\u001b[49m\u001b[38;5;241;43m=\u001b[39;49m\u001b[43m(\u001b[49m\u001b[38;5;241;43m0\u001b[39;49m\u001b[43m,\u001b[49m\u001b[43m \u001b[49m\u001b[38;5;241;43m0\u001b[39;49m\u001b[43m,\u001b[49m\u001b[43m \u001b[49m\u001b[38;5;241;43m1\u001b[39;49m\u001b[43m)\u001b[49m\u001b[43m,\u001b[49m\u001b[43m \u001b[49m\u001b[43msx\u001b[49m\u001b[38;5;241;43m=\u001b[39;49m\u001b[38;5;241;43m1000\u001b[39;49m\u001b[43m,\u001b[49m\u001b[43m \u001b[49m\u001b[43msy\u001b[49m\u001b[38;5;241;43m=\u001b[39;49m\u001b[38;5;241;43m1000\u001b[39;49m\u001b[43m)\u001b[49m\u001b[38;5;241m.\u001b[39mc(\n\u001b[0;32m   1806\u001b[0m     COLOR_WATER\n\u001b[0;32m   1807\u001b[0m )\n\u001b[0;32m   1808\u001b[0m plane\u001b[38;5;241m.\u001b[39mtexture(TEXTURE_SEA)\n\u001b[0;32m   1809\u001b[0m plane\u001b[38;5;241m.\u001b[39mlighting(ambient\u001b[38;5;241m=\u001b[39m\u001b[38;5;241m1.0\u001b[39m, diffuse\u001b[38;5;241m=\u001b[39m\u001b[38;5;241m0.0\u001b[39m, specular\u001b[38;5;241m=\u001b[39m\u001b[38;5;241m0.0\u001b[39m, specularPower\u001b[38;5;241m=\u001b[39m\u001b[38;5;241m1e-7\u001b[39m)\n",
      "\u001b[1;31mTypeError\u001b[0m: __init__() got an unexpected keyword argument 'sx'"
     ]
    }
   ],
   "source": [
    "show(s, camera_pos=(5,-30,6), lookat = (5,0,5))"
   ]
  },
  {
   "cell_type": "markdown",
   "metadata": {},
   "source": [
    "The vertical force on both ends of the cable should be half the weight"
   ]
  },
  {
   "cell_type": "code",
   "execution_count": null,
   "metadata": {},
   "outputs": [],
   "source": [
    "0.5 * 9.81 * cable.mass"
   ]
  },
  {
   "cell_type": "code",
   "execution_count": null,
   "metadata": {},
   "outputs": [],
   "source": [
    "right.applied_force[2]"
   ]
  },
  {
   "cell_type": "markdown",
   "metadata": {},
   "source": [
    "well, seems right\n",
    "\n",
    "Lets see the influence of the number of segments of the cable.\n",
    "\n",
    "We could \"manually\" change that, but we can also use the \"plot_effect\" function from scene for that:"
   ]
  },
  {
   "cell_type": "code",
   "execution_count": null,
   "metadata": {},
   "outputs": [],
   "source": [
    "s.plot_effect(evaluate=\"s['right'].applied_force[2]\",\n",
    "   change_property=\"n_segments\",\n",
    "    change_node=\"cable\",\n",
    "    start=1,\n",
    "    to=50.0,\n",
    "    steps=50);"
   ]
  },
  {
   "cell_type": "markdown",
   "metadata": {},
   "source": [
    "Same for horizontal force"
   ]
  },
  {
   "cell_type": "code",
   "execution_count": null,
   "metadata": {},
   "outputs": [],
   "source": [
    "s.plot_effect(evaluate=\"s['right'].applied_force[2]\",\n",
    "   change_property=\"n_segments\",\n",
    "    change_node=\"cable\",\n",
    "    start=1,\n",
    "    to=20.0,\n",
    "    steps=20);"
   ]
  },
  {
   "cell_type": "code",
   "execution_count": null,
   "metadata": {},
   "outputs": [],
   "source": []
  }
 ],
 "metadata": {
  "kernelspec": {
   "display_name": "Book",
   "language": "python",
   "name": "book"
  },
  "language_info": {
   "codemirror_mode": {
    "name": "ipython",
    "version": 3
   },
   "file_extension": ".py",
   "mimetype": "text/x-python",
   "name": "python",
   "nbconvert_exporter": "python",
   "pygments_lexer": "ipython3",
   "version": "3.9.13"
  }
 },
 "nbformat": 4,
 "nbformat_minor": 4
}
