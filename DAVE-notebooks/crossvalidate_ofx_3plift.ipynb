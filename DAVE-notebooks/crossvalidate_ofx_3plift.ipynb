{
 "cells": [
  {
   "cell_type": "markdown",
   "metadata": {},
   "source": [
    "# Cross-validation of DAVE and Orcaflex static results : 3 point lift"
   ]
  },
  {
   "cell_type": "markdown",
   "metadata": {},
   "source": [
    "Create a new DAVE scene for a three point lift:"
   ]
  },
  {
   "cell_type": "code",
   "execution_count": 1,
   "metadata": {},
   "outputs": [
    {
     "name": "stdout",
     "output_type": "stream",
     "text": [
      "DAVEcore version = 2.0 from c:\\python\\miniconda3\\envs\\book\\Lib\\site-packages\\DAVEcore.cp311-win_amd64.pyd\n",
      "Blender found at: C:\\Users\\beneden\\AppData\\Local\\Microsoft\\WindowsApps\\\\blender-launcher.exe\n"
     ]
    },
    {
     "data": {
      "text/plain": [
       "True"
      ]
     },
     "execution_count": 1,
     "metadata": {},
     "output_type": "execute_result"
    }
   ],
   "source": [
    "from DAVE import *\n",
    "s = Scene()\n",
    "\n",
    "#code for Body\n",
    "s.new_rigidbody(name='Body',\n",
    "                mass=10.0,\n",
    "                cog=(1.7,\n",
    "                     3.6,\n",
    "                     -2.0),\n",
    "                fixed = False)\n",
    "# code for Point1_1\n",
    "s.new_point(name='Point1_1',\n",
    "          position=(1.0,\n",
    "                    -3.0,\n",
    "                    11.0))\n",
    "# code for Point2_1\n",
    "s.new_point(name='Point2_1',\n",
    "          position=(7.0,\n",
    "                    5.0,\n",
    "                    10.0))\n",
    "# code for Point3_1\n",
    "s.new_point(name='Point3_1',\n",
    "          position=(-7.0,\n",
    "                    4.0,\n",
    "                    10.0))\n",
    "# code for Point1\n",
    "s.new_point(name='Point1',\n",
    "          parent='Body',\n",
    "          position=(0.0,\n",
    "                    -3.0,\n",
    "                    0.0))\n",
    "# code for Point2\n",
    "s.new_point(name='Point2',\n",
    "          parent='Body',\n",
    "          position=(7.0,\n",
    "                    5.0,\n",
    "                    4.0))\n",
    "# code for Point3\n",
    "s.new_point(name='Point3',\n",
    "          parent='Body',\n",
    "          position=(-7.0,\n",
    "                    4.0,\n",
    "                    3.0))\n",
    "# code for Cable2\n",
    "s.new_cable(name='Cable2',\n",
    "            endA='Point2_1',\n",
    "            endB='Point2',\n",
    "            length=6.0,\n",
    "            EA=100.0)\n",
    "# code for Cable1\n",
    "s.new_cable(name='Cable1',\n",
    "            endA='Point1_1',\n",
    "            endB='Point1',\n",
    "            length=10.0,\n",
    "            EA=400.0)\n",
    "# code for Cable3\n",
    "s.new_cable(name='Cable3',\n",
    "            endA='Point3',\n",
    "            endB='Point3_1',\n",
    "            length=7.0,\n",
    "            EA=200.0)\n",
    "\n",
    "s.solve_statics()"
   ]
  },
  {
   "cell_type": "markdown",
   "metadata": {},
   "source": [
    "Show the model"
   ]
  },
  {
   "cell_type": "code",
   "execution_count": 2,
   "metadata": {},
   "outputs": [
    {
     "data": {
      "image/png": "[encoded data removed]",
      "text/plain": [
       "<PIL.Image.Image image mode=RGB size=1024x600>"
      ]
     },
     "execution_count": 2,
     "metadata": {},
     "output_type": "execute_result"
    }
   ],
   "source": [
    "from DAVE.jupyter import *\n",
    "show(s, camera_pos = (27.76337383340547, -20.104069593345237, 5.912761778010189), lookat = (3.2308766177977186, 2.6085609885763255, 4.531373097710178), force_do_normalize = True, force_scale = 1.6, cog_scale = 1)\n"
   ]
  },
  {
   "cell_type": "markdown",
   "metadata": {},
   "source": [
    "The model consists of a single body suspended from three cables. All cables have different stiffnesses:"
   ]
  },
  {
   "cell_type": "code",
   "execution_count": 3,
   "metadata": {},
   "outputs": [
    {
     "data": {
      "text/html": [
       "<table align=\"left\" border=\"1\"><caption>Properties of Cable1 (Cable)</caption><tr><th style=\"text-align:left\">Property</th><th style=\"text-align:left\">Value</th><th style=\"text-align:left\">Unit</th><th style=\"text-align:left\">Remarks</th><th style=\"text-align:left\">Explained</th></tr><tr><td style=\"text-align:left\">EA</td><td style=\"text-align:left\">400.000</td><td style=\"text-align:left\">[kN]</td><td style=\"text-align:left\"></td><td style=\"text-align:left\">Stiffness of the cable </td></tr><tr><td style=\"text-align:left\">length</td><td style=\"text-align:left\">10.000</td><td style=\"text-align:left\">[m]</td><td style=\"text-align:left\"></td><td style=\"text-align:left\">Length of the cable when in rest </td></tr></table><BR CLEAR=LEFT>"
      ],
      "text/plain": [
       "<IPython.core.display.HTML object>"
      ]
     },
     "metadata": {},
     "output_type": "display_data"
    }
   ],
   "source": [
    "report(s['Cable1'],['EA','length'])"
   ]
  },
  {
   "cell_type": "code",
   "execution_count": 4,
   "metadata": {},
   "outputs": [
    {
     "data": {
      "text/html": [
       "<table align=\"left\" border=\"1\"><caption>Properties of Cable2 (Cable)</caption><tr><th style=\"text-align:left\">Property</th><th style=\"text-align:left\">Value</th><th style=\"text-align:left\">Unit</th><th style=\"text-align:left\">Remarks</th><th style=\"text-align:left\">Explained</th></tr><tr><td style=\"text-align:left\">EA</td><td style=\"text-align:left\">100.000</td><td style=\"text-align:left\">[kN]</td><td style=\"text-align:left\"></td><td style=\"text-align:left\">Stiffness of the cable </td></tr><tr><td style=\"text-align:left\">length</td><td style=\"text-align:left\">6.000</td><td style=\"text-align:left\">[m]</td><td style=\"text-align:left\"></td><td style=\"text-align:left\">Length of the cable when in rest </td></tr></table><BR CLEAR=LEFT>"
      ],
      "text/plain": [
       "<IPython.core.display.HTML object>"
      ]
     },
     "metadata": {},
     "output_type": "display_data"
    }
   ],
   "source": [
    "report(s['Cable2'],['EA','length'])"
   ]
  },
  {
   "cell_type": "code",
   "execution_count": 5,
   "metadata": {},
   "outputs": [
    {
     "data": {
      "text/html": [
       "<table align=\"left\" border=\"1\"><caption>Properties of Cable3 (Cable)</caption><tr><th style=\"text-align:left\">Property</th><th style=\"text-align:left\">Value</th><th style=\"text-align:left\">Unit</th><th style=\"text-align:left\">Remarks</th><th style=\"text-align:left\">Explained</th></tr><tr><td style=\"text-align:left\">EA</td><td style=\"text-align:left\">200.000</td><td style=\"text-align:left\">[kN]</td><td style=\"text-align:left\"></td><td style=\"text-align:left\">Stiffness of the cable </td></tr><tr><td style=\"text-align:left\">length</td><td style=\"text-align:left\">7.000</td><td style=\"text-align:left\">[m]</td><td style=\"text-align:left\"></td><td style=\"text-align:left\">Length of the cable when in rest </td></tr></table><BR CLEAR=LEFT>"
      ],
      "text/plain": [
       "<IPython.core.display.HTML object>"
      ]
     },
     "metadata": {},
     "output_type": "display_data"
    }
   ],
   "source": [
    "report(s['Cable3'],['EA','length'])"
   ]
  },
  {
   "cell_type": "markdown",
   "metadata": {},
   "source": [
    "## Orcaflex\n",
    "\n",
    "This model can be exported to an orcaflex .yml model file.\n",
    "\n",
    "If you have orcaflex on this computer then DAVE will use the OrcFxAPI to open the model, solve statics and summarize the static results. The static results are returned as a dict.\n",
    "\n",
    "This only runs if you have orcaflex and an available license.\n"
   ]
  },
  {
   "cell_type": "code",
   "execution_count": 6,
   "metadata": {},
   "outputs": [
    {
     "name": "stdout",
     "output_type": "stream",
     "text": [
      "created 3plift.yml\n",
      "Written C:\\Users\\beneden\\AppData\\Local\\Temp\\ofx_dave_runfile.py to run 3plift.yml and save resuts as 3plift_sum.yml\n",
      "No module named 'OrcFxAPI'\n"
     ]
    }
   ],
   "source": [
    "from DAVE.io.orcaflex import *\n",
    "\n",
    "# If the orcaflex/python configuration on your pc is not properly configured then you may need to manually add the path to the orcaflex api. This is done here\n",
    "import sys\n",
    "sys.path.append(r'C:\\Program Files (x86)\\Orcina\\OrcaFlex\\10.2\\OrcFxAPI\\Python')\n",
    "\n",
    "try:\n",
    "    ofx_results = run_statics_collect(s, filename = r'3plift.yml')\n",
    "except Exception as E:\n",
    "    print(E)"
   ]
  },
  {
   "cell_type": "markdown",
   "metadata": {},
   "source": [
    "Now it is possible that you, like me, do not have orcaflex. In that case the previous cell resulted in an error like \"No module named 'OrcFxAPI' \"\n",
    "\n",
    "## What if you do not have Orcaflex\n",
    "\n",
    "- You can still download the orcaflex demo to open and view the .yml model file\n",
    "\n",
    "\n",
    "![screenshot](screenshot_3p.png)\n",
    "\n",
    "    - All the body has been exported as a 6D buoy\n",
    "    - The cables have been exported as winches\n",
    "\n",
    "- You can give the model to somebody who has orcaflex and ask nicely if they can run it for you using the created .py file\n",
    "- You can then load the model_sum.yml file directly.\n"
   ]
  },
  {
   "cell_type": "code",
   "execution_count": 7,
   "metadata": {},
   "outputs": [],
   "source": [
    "ofx_results = r'3plift_sum.yml' # this step can be skipped if the previous cell ran without errors"
   ]
  },
  {
   "cell_type": "markdown",
   "metadata": {},
   "source": [
    "There is a small utility fuction to compare the orcaflex static results to the results in the DAVE model. ofx_results may be a results dictionary or a modelname_sum.yml file"
   ]
  },
  {
   "cell_type": "code",
   "execution_count": 8,
   "metadata": {},
   "outputs": [],
   "source": [
    "comparison = compare_statics(s, ofx_results)"
   ]
  },
  {
   "cell_type": "markdown",
   "metadata": {},
   "source": [
    "To nicely display the result dictionary we convert it to a pandas dataframe. Just a quick trick to make a table."
   ]
  },
  {
   "cell_type": "code",
   "execution_count": 9,
   "metadata": {},
   "outputs": [
    {
     "data": {
      "text/html": [
       "<div>\n",
       "<style scoped>\n",
       "    .dataframe tbody tr th:only-of-type {\n",
       "        vertical-align: middle;\n",
       "    }\n",
       "\n",
       "    .dataframe tbody tr th {\n",
       "        vertical-align: top;\n",
       "    }\n",
       "\n",
       "    .dataframe thead th {\n",
       "        text-align: right;\n",
       "    }\n",
       "</style>\n",
       "<table border=\"1\" class=\"dataframe\">\n",
       "  <thead>\n",
       "    <tr style=\"text-align: right;\">\n",
       "      <th></th>\n",
       "      <th>Name</th>\n",
       "      <th>Prop</th>\n",
       "      <th>Orcaflex</th>\n",
       "      <th>DAVE</th>\n",
       "    </tr>\n",
       "  </thead>\n",
       "  <tbody>\n",
       "    <tr>\n",
       "      <th>0</th>\n",
       "      <td>Body</td>\n",
       "      <td>global position [m,m,m]</td>\n",
       "      <td>(0.13236197627607232, -0.633160597588408, -0.4...</td>\n",
       "      <td>(0.13236197459972854, -0.6331605972032116, -0....</td>\n",
       "    </tr>\n",
       "    <tr>\n",
       "      <th>1</th>\n",
       "      <td>Body</td>\n",
       "      <td>global rotation vec [deg,deg,deg]</td>\n",
       "      <td>[-14.953789651449451, 5.430296961568462, 1.917...</td>\n",
       "      <td>(-14.953789597389738, 5.430296935898007, 1.917...</td>\n",
       "    </tr>\n",
       "    <tr>\n",
       "      <th>2</th>\n",
       "      <td>Cable2</td>\n",
       "      <td>Tension [kN]</td>\n",
       "      <td>43.08903436605629</td>\n",
       "      <td>43.089034</td>\n",
       "    </tr>\n",
       "    <tr>\n",
       "      <th>3</th>\n",
       "      <td>Cable2</td>\n",
       "      <td>Stretched length [m]</td>\n",
       "      <td>8.585342061963377</td>\n",
       "      <td>8.585342</td>\n",
       "    </tr>\n",
       "    <tr>\n",
       "      <th>4</th>\n",
       "      <td>Cable1</td>\n",
       "      <td>Tension [kN]</td>\n",
       "      <td>29.022418181228318</td>\n",
       "      <td>29.022418</td>\n",
       "    </tr>\n",
       "    <tr>\n",
       "      <th>5</th>\n",
       "      <td>Cable1</td>\n",
       "      <td>Stretched length [m]</td>\n",
       "      <td>10.725560454530708</td>\n",
       "      <td>10.72556</td>\n",
       "    </tr>\n",
       "    <tr>\n",
       "      <th>6</th>\n",
       "      <td>Cable3</td>\n",
       "      <td>Tension [kN]</td>\n",
       "      <td>26.132293342543228</td>\n",
       "      <td>26.132293</td>\n",
       "    </tr>\n",
       "    <tr>\n",
       "      <th>7</th>\n",
       "      <td>Cable3</td>\n",
       "      <td>Stretched length [m]</td>\n",
       "      <td>7.914630266989013</td>\n",
       "      <td>7.91463</td>\n",
       "    </tr>\n",
       "  </tbody>\n",
       "</table>\n",
       "</div>"
      ],
      "text/plain": [
       "     Name                               Prop  \\\n",
       "0    Body            global position [m,m,m]   \n",
       "1    Body  global rotation vec [deg,deg,deg]   \n",
       "2  Cable2                       Tension [kN]   \n",
       "3  Cable2               Stretched length [m]   \n",
       "4  Cable1                       Tension [kN]   \n",
       "5  Cable1               Stretched length [m]   \n",
       "6  Cable3                       Tension [kN]   \n",
       "7  Cable3               Stretched length [m]   \n",
       "\n",
       "                                            Orcaflex  \\\n",
       "0  (0.13236197627607232, -0.633160597588408, -0.4...   \n",
       "1  [-14.953789651449451, 5.430296961568462, 1.917...   \n",
       "2                                  43.08903436605629   \n",
       "3                                  8.585342061963377   \n",
       "4                                 29.022418181228318   \n",
       "5                                 10.725560454530708   \n",
       "6                                 26.132293342543228   \n",
       "7                                  7.914630266989013   \n",
       "\n",
       "                                                DAVE  \n",
       "0  (0.13236197459972854, -0.6331605972032116, -0....  \n",
       "1  (-14.953789597389738, 5.430296935898007, 1.917...  \n",
       "2                                          43.089034  \n",
       "3                                           8.585342  \n",
       "4                                          29.022418  \n",
       "5                                           10.72556  \n",
       "6                                          26.132293  \n",
       "7                                            7.91463  "
      ]
     },
     "execution_count": 9,
     "metadata": {},
     "output_type": "execute_result"
    }
   ],
   "source": [
    "import pandas as pd\n",
    "pd.DataFrame.from_dict(comparison)"
   ]
  },
  {
   "cell_type": "markdown",
   "metadata": {},
   "source": [
    "The results are comparable enough to conclude that both programs agree on the equilibrium positions and tensions. They are also different enough to confirm that they are really originate from different programs."
   ]
  },
  {
   "cell_type": "markdown",
   "metadata": {},
   "source": [
    "-- end --"
   ]
  },
  {
   "cell_type": "markdown",
   "metadata": {},
   "source": [
    "---"
   ]
  }
 ],
 "metadata": {
  "kernelspec": {
   "display_name": "Book",
   "language": "python",
   "name": "book"
  },
  "language_info": {
   "codemirror_mode": {
    "name": "ipython",
    "version": 3
   },
   "file_extension": ".py",
   "mimetype": "text/x-python",
   "name": "python",
   "nbconvert_exporter": "python",
   "pygments_lexer": "ipython3",
   "version": "3.11.3"
  }
 },
 "nbformat": 4,
 "nbformat_minor": 4
}
